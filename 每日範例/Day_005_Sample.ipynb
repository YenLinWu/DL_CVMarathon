{
 "cells": [
  {
   "cell_type": "markdown",
   "metadata": {},
   "source": [
    "#  範例\n",
    "\n",
    "Hint: 人物原始邊框座標 (60, 40), (420, 510)\n",
    "\n",
    "請根據 Lena 圖做以下處理\n",
    "\n",
    "- 對明亮度做直方圖均衡處理\n",
    "- 水平鏡像 + 縮放處理 (0.5 倍)\n",
    "- 畫出人物矩形邊框"
   ]
  },
  {
   "cell_type": "code",
   "execution_count": 1,
   "metadata": {},
   "outputs": [],
   "source": [
    "import cv2\n",
    "import numpy as np\n",
    "\n",
    "img = cv2.imread('data/lena.png')"
   ]
  },
  {
   "cell_type": "markdown",
   "metadata": {},
   "source": [
    "## Hint: 矩形"
   ]
  },
  {
   "cell_type": "code",
   "execution_count": 2,
   "metadata": {},
   "outputs": [],
   "source": [
    "img_rect = img.copy()\n",
    "cv2.rectangle(img_rect, (60, 40), (420, 510), (0, 0, 255), 3)\n",
    "\n",
    "while True:\n",
    "    cv2.imshow('image', img_rect)\n",
    "    k = cv2.waitKey(0)\n",
    "    if k == 27:\n",
    "        cv2.destroyAllWindows()\n",
    "        break"
   ]
  },
  {
   "cell_type": "markdown",
   "metadata": {},
   "source": [
    "## Hint: 線"
   ]
  },
  {
   "cell_type": "code",
   "execution_count": 3,
   "metadata": {},
   "outputs": [],
   "source": [
    "img_line = img.copy()\n",
    "cv2.line(img_line, (60, 40), (420, 510), (0, 0, 255), 3)\n",
    "\n",
    "while True:\n",
    "    cv2.imshow('image', img_line)\n",
    "    k = cv2.waitKey(0)\n",
    "    if k == 27:\n",
    "        cv2.destroyAllWindows()\n",
    "        break"
   ]
  },
  {
   "cell_type": "markdown",
   "metadata": {},
   "source": [
    "## Hint: 文字"
   ]
  },
  {
   "cell_type": "code",
   "execution_count": 4,
   "metadata": {},
   "outputs": [],
   "source": [
    "img_text = img.copy()\n",
    "cv2.putText(img_text, '(60, 40)', (60, 40), 0, 1, (0, 0, 255), 2)\n",
    "\n",
    "while True:\n",
    "    cv2.imshow('image', img_text)\n",
    "    k = cv2.waitKey(0)\n",
    "    if k == 27:\n",
    "        cv2.destroyAllWindows()\n",
    "        break"
   ]
  },
  {
   "cell_type": "markdown",
   "metadata": {},
   "source": [
    "##  解法一\n",
    "\n",
    "根據題目，參考之前的投影片，最簡單的方式是\n",
    "\n",
    "1. 顏色的操作 (對明亮度做直方圖均衡)\n",
    "2. 把矩形邊框畫在圖片上之後在做位置上的變換\n",
    "\n",
    "得到的圖的結果正確，但你不知道新的矩型邊框座標點"
   ]
  },
  {
   "cell_type": "code",
   "execution_count": 5,
   "metadata": {},
   "outputs": [],
   "source": [
    "img_hw = img.copy()\n",
    "point1 = (60, 40)\n",
    "point2 = (420, 510)\n",
    "\n",
    "\"\"\"\n",
    "對明亮度做直方圖均衡\n",
    "\"\"\"\n",
    "# 原始 BGR 圖片轉 HSV 圖片\n",
    "img_hw = cv2.cvtColor(img_hw, cv2.COLOR_BGR2HSV)\n",
    "\n",
    "# 對明亮度做直方圖均衡 -> 對 HSV 的 V 做直方圖均衡\n",
    "img_hw[..., -1] = cv2.equalizeHist(img_hw[..., -1])\n",
    "\n",
    "# 將圖片轉回 BGR\n",
    "img_hw = cv2.cvtColor(img_hw, cv2.COLOR_HSV2BGR)\n",
    "\n",
    "\"\"\"\n",
    "畫出人物矩形邊框\n",
    "\"\"\"\n",
    "cv2.rectangle(img_hw, point1, point2, (0, 0, 255), 3)\n",
    "\n",
    "\"\"\"\n",
    "水平鏡像 + 縮放處理 (0.5 倍)\n",
    "\"\"\"\n",
    "# 水平鏡像 (圖片)\n",
    "img_hw = img_hw[:, ::-1, :]\n",
    "\n",
    "# 縮放處理\n",
    "img_hw = cv2.resize(img_hw, None, fx=0.5, fy=0.5, interpolation=cv2.INTER_LINEAR)\n",
    "\n",
    "while True:\n",
    "    cv2.imshow('image', img_hw)\n",
    "    k = cv2.waitKey(0)\n",
    "    if k == 27:\n",
    "        cv2.destroyAllWindows()\n",
    "        break"
   ]
  }
 ],
 "metadata": {
  "kernelspec": {
   "display_name": "Python 3",
   "language": "python",
   "name": "python3"
  },
  "language_info": {
   "codemirror_mode": {
    "name": "ipython",
    "version": 3
   },
   "file_extension": ".py",
   "mimetype": "text/x-python",
   "name": "python",
   "nbconvert_exporter": "python",
   "pygments_lexer": "ipython3",
   "version": "3.6.8"
  }
 },
 "nbformat": 4,
 "nbformat_minor": 2
}
