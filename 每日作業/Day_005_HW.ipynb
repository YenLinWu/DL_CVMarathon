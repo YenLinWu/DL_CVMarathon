{
 "cells": [
  {
   "cell_type": "markdown",
   "metadata": {},
   "source": [
    "#  作業\n",
    "\n",
    "Hint: 人物原始邊框座標 (60, 40), (420, 510)\n",
    "\n",
    "請根據 Lena 圖做以下處理\n",
    "\n",
    "- 對明亮度做直方圖均衡處理\n",
    "- 水平鏡像 + 縮放處理 (0.5 倍)\n",
    "- 畫出人物矩形邊框"
   ]
  },
  {
   "cell_type": "code",
   "execution_count": 1,
   "metadata": {},
   "outputs": [],
   "source": [
    "import cv2\n",
    "import numpy as np"
   ]
  },
  {
   "cell_type": "code",
   "execution_count": 2,
   "metadata": {},
   "outputs": [],
   "source": [
    "img_path = 'D:/Tom/GitHub/DL_CVMarathon/img/Day_001/lena.png'\n",
    "img_bgr = cv2.imread( img_path  )"
   ]
  },
  {
   "cell_type": "markdown",
   "metadata": {},
   "source": [
    "## Hint: 矩形"
   ]
  },
  {
   "cell_type": "code",
   "execution_count": 3,
   "metadata": {},
   "outputs": [],
   "source": [
    "img_rect = img_bgr.copy()\n",
    "cv2.rectangle( img_rect, (60, 40), (420, 510), (0, 255, 0), 3 )\n",
    "\n",
    "while True:\n",
    "    cv2.imshow( 'Add Green Rectangle', img_rect )\n",
    "    cv2.imwrite( 'Add_Green_Rectangle.jpg', img_rect )\n",
    "    \n",
    "    k = cv2.waitKey(0)\n",
    "    if k == 27:\n",
    "        cv2.destroyAllWindows()\n",
    "        break"
   ]
  },
  {
   "cell_type": "markdown",
   "metadata": {},
   "source": [
    "## Hint: 線"
   ]
  },
  {
   "cell_type": "code",
   "execution_count": 4,
   "metadata": {},
   "outputs": [],
   "source": [
    "img_line = img_bgr.copy()\n",
    "cv2.line( img_line, (60, 40), (420, 510), (255, 255, 255), 3 )\n",
    "\n",
    "while True:\n",
    "    cv2.imshow( 'Add White Line', img_line )\n",
    "    cv2.imwrite( 'Add_White_Line.jpg', img_line )\n",
    "    \n",
    "    k = cv2.waitKey(0)\n",
    "    if k == 27:\n",
    "        cv2.destroyAllWindows()\n",
    "        break"
   ]
  },
  {
   "cell_type": "markdown",
   "metadata": {},
   "source": [
    "## Hint: 文字"
   ]
  },
  {
   "cell_type": "code",
   "execution_count": 5,
   "metadata": {},
   "outputs": [],
   "source": [
    "img_text = img_bgr.copy()\n",
    "cv2.putText( img_text, '(60, 40)', (60, 40), 0, 1, (0, 0, 0), 2 )\n",
    "\n",
    "while True:\n",
    "    cv2.imshow( 'Add Black Text', img_text )\n",
    "    cv2.imwrite( 'Add_Black_Text.jpg', img_text )\n",
    "    \n",
    "    k = cv2.waitKey(0)\n",
    "    if k == 27:\n",
    "        cv2.destroyAllWindows()\n",
    "        break"
   ]
  },
  {
   "cell_type": "markdown",
   "metadata": {},
   "source": [
    "##  解法二\n",
    "\n",
    "如果希望得知矩型邊框的位置\n",
    "\n",
    "1. 顏色的操作 (對明亮度做直方圖均衡)\n",
    "2. 鏡像可以透過四則運算得知\n",
    "3. 透過建構 transformation matrix 做縮放\n",
    "4. 把矩型邊框的點與 transformation matrix 相乘就會得到縮放後的位置\n",
    "5. 畫圖\n",
    "\n",
    "得到的圖的結果正確，同時也知道新的矩型邊框座標點"
   ]
  },
  {
   "cell_type": "code",
   "execution_count": 6,
   "metadata": {},
   "outputs": [
    {
     "name": "stdout",
     "output_type": "stream",
     "text": [
      "origin point1=[92, 40], origin point2=[452, 510]\n",
      "resize point1=(46, 20), resize point2=(226, 255)\n"
     ]
    }
   ],
   "source": [
    "img_hw = img_bgr.copy()\n",
    "point1 = [60, 40]\n",
    "point2 = [420, 510]\n",
    "\n",
    "\"\"\"\n",
    "對明亮度做直方圖均衡\n",
    "\"\"\"\n",
    "# 原始 BGR 圖片轉 HSV 圖片\n",
    "img_hw = cv2.cvtColor( img_hw, cv2.COLOR_BGR2HSV )\n",
    "\n",
    "# 對明亮度做直方圖均衡 -> 對 HSV 的 V 做直方圖均衡\n",
    "img_hw[ ..., -1 ] = cv2.equalizeHist( img_hw[ ..., -1 ] )\n",
    "\n",
    "# 將圖片轉回 BGR\n",
    "img_hw = cv2.cvtColor( img_hw, cv2.COLOR_HSV2BGR )\n",
    "\n",
    "\"\"\"\n",
    "水平鏡像\n",
    "\"\"\"\n",
    "h, w = img_hw.shape[:2]\n",
    "\n",
    "# 圖片鏡像\n",
    "img_hw = img_hw[ :, ::-1, : ]\n",
    "\n",
    "# 透過四則運算計算鏡像後位置\n",
    "# 確保點的位置一樣是左上跟右下，所以交換鏡像後的 x 座標 (y 座標做水平鏡像後位置不變)\n",
    "point1[0] = w-point1[0]\n",
    "point2[0] = w-point2[0]\n",
    "point1[0], point2[0] = point2[0], point1[0]\n",
    "\n",
    "\"\"\"\n",
    "縮放處理 (0.5 倍)\n",
    "\"\"\"\n",
    "fx = 0.5\n",
    "fy = 0.5\n",
    "resize_col = int( img_hw.shape[1]*fx )\n",
    "resize_row = int( img_hw.shape[0]*fy )\n",
    "\n",
    "# 建構 scale matrix\n",
    "M_scale = np.array( [[0.5, 0, 0],[0, 0.5, 0]], dtype=np.float32 )\n",
    "img_hw = cv2.warpAffine( img_hw, M_scale, (resize_col, resize_row) )\n",
    "\n",
    "# 把左上跟右下轉為矩陣型式\n",
    "bbox = np.array((point1, point2), dtype=np.float32)\n",
    "#print('M_scale.shape={}, bbox.shape={}'.format(M_scale.shape, bbox.shape))\n",
    "\n",
    "# 做矩陣乘法可以使用 `np.dot`, 為了做矩陣乘法, M_scale 需要做轉置之後才能相乘\n",
    "homo_coor_result = np.dot(M_scale.T, bbox)\n",
    "homo_coor_result = homo_coor_result.astype('uint8')\n",
    "#print(homo_coor_result)\n",
    "scale_point1 = tuple(homo_coor_result[0])\n",
    "scale_point2 = tuple(homo_coor_result[1])\n",
    "print('origin point1={}, origin point2={}'.format(point1, point2))\n",
    "print('resize point1={}, resize point2={}'.format(scale_point1, scale_point2))\n",
    "\n",
    "# 畫圖\n",
    "cv2.rectangle(img_hw, scale_point1, scale_point2, (0, 0, 255), 3)\n",
    "\n",
    "while True:\n",
    "    cv2.imshow( 'Equal Histogram & Resize & Add Rectangle', img_hw )\n",
    "    cv2.imwrite( 'Equal_Histogram_&_Resize_&_Add_Rectangle.jpg', img_hw )\n",
    "    \n",
    "    k = cv2.waitKey(0)\n",
    "    if k == 27:\n",
    "        cv2.destroyAllWindows()\n",
    "        break"
   ]
  },
  {
   "cell_type": "markdown",
   "metadata": {},
   "source": [
    "##  解法三 (optional)\n",
    "\n",
    "把矩型邊框用遮罩的方式呈現，使用同樣處理圖片的方式處理遮罩\n",
    "最後再找遮罩的左上跟右下的點的位置\n",
    "\n",
    "這邊會用到許多沒提過的東西，所以當作 optional"
   ]
  },
  {
   "cell_type": "code",
   "execution_count": null,
   "metadata": {},
   "outputs": [],
   "source": []
  }
 ],
 "metadata": {
  "kernelspec": {
   "display_name": "Python 3",
   "language": "python",
   "name": "python3"
  },
  "language_info": {
   "codemirror_mode": {
    "name": "ipython",
    "version": 3
   },
   "file_extension": ".py",
   "mimetype": "text/x-python",
   "name": "python",
   "nbconvert_exporter": "python",
   "pygments_lexer": "ipython3",
   "version": "3.7.6"
  }
 },
 "nbformat": 4,
 "nbformat_minor": 2
}
