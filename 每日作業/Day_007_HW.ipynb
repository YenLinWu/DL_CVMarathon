{
 "cells": [
  {
   "cell_type": "markdown",
   "metadata": {},
   "source": [
    "# 範例\n",
    "\n",
    "根據以下的參考點，嘗試做透視變換\n",
    "\n",
    "```\n",
    "point1 = np.array([[60, 40], [420, 40], [420, 510], [60, 510]], dtype=np.float32)\n",
    "point2 = np.array([[0, 80], [w, 120], [w, 430], [0, 470]], dtype=np.float32)\n",
    "```"
   ]
  },
  {
   "cell_type": "code",
   "execution_count": 1,
   "metadata": {},
   "outputs": [],
   "source": [
    "import cv2\n",
    "import time\n",
    "import numpy as np"
   ]
  },
  {
   "cell_type": "code",
   "execution_count": 2,
   "metadata": {},
   "outputs": [],
   "source": [
    "img_path = 'D:/Tom/GitHub/DL_CVMarathon/img/Day_001/lena.png'\n",
    "img_bgr = cv2.imread( img_path )"
   ]
  },
  {
   "cell_type": "markdown",
   "metadata": {},
   "source": [
    "## 透視轉換"
   ]
  },
  {
   "cell_type": "code",
   "execution_count": 3,
   "metadata": {},
   "outputs": [],
   "source": [
    "img_perspective = img_bgr.copy()\n",
    "h, w = img_bgr.shape[:2]\n",
    "\n",
    "# 設定四對點，並取得 perspective 矩陣\n",
    "point1 = np.array([[60, 40], [420, 40], [420, 510], [60, 510]], dtype=np.float32)\n",
    "point2 = np.array([[0, 80], [w, 120], [w, 430], [0, 470]], dtype=np.float32)\n",
    "M = cv2.getPerspectiveTransform(point1, point2)\n",
    "\n",
    "# perspective 轉換\n",
    "img_perspective = cv2.warpPerspective( img_bgr, M, (w, h) )\n",
    "\n",
    "# 組合 + 顯示圖片\n",
    "img_show = np.hstack((img_bgr, img_perspective))\n",
    "while True:\n",
    "    cv2.imshow( 'Perspective Transform', img_show )\n",
    "    cv2.imwrite( 'Perspective_Transform.jpg', img_show )\n",
    "    \n",
    "    k = cv2.waitKey(0)\n",
    "    if k == 27:\n",
    "        cv2.destroyAllWindows()\n",
    "        break"
   ]
  }
 ],
 "metadata": {
  "kernelspec": {
   "display_name": "Python 3",
   "language": "python",
   "name": "python3"
  },
  "language_info": {
   "codemirror_mode": {
    "name": "ipython",
    "version": 3
   },
   "file_extension": ".py",
   "mimetype": "text/x-python",
   "name": "python",
   "nbconvert_exporter": "python",
   "pygments_lexer": "ipython3",
   "version": "3.7.6"
  }
 },
 "nbformat": 4,
 "nbformat_minor": 2
}
