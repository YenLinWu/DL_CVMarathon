{
 "cells": [
  {
   "cell_type": "markdown",
   "metadata": {},
   "source": [
    "## 『作業內容』\n",
    "####   依照指示，搭建Maxpooling層與全連接層"
   ]
  },
  {
   "cell_type": "markdown",
   "metadata": {},
   "source": [
    "## 『目標』\n",
    "####   了解 Maxpooling 的原理與 CNN、FC 層連結的方式"
   ]
  },
  {
   "cell_type": "code",
   "execution_count": 1,
   "metadata": {},
   "outputs": [],
   "source": [
    "from tensorflow.keras.models import Sequential, Model\n",
    "from tensorflow.keras.layers import Input, Conv2D, MaxPooling2D, GlobalAveragePooling2D, Flatten, Dense"
   ]
  },
  {
   "cell_type": "markdown",
   "metadata": {},
   "source": [
    "# (1) Convolution -> Max Pooling -> Flatten -> Dense"
   ]
  },
  {
   "cell_type": "code",
   "execution_count": 2,
   "metadata": {
    "colab": {},
    "colab_type": "code",
    "id": "43xxX0yJxiDr"
   },
   "outputs": [
    {
     "name": "stdout",
     "output_type": "stream",
     "text": [
      "Model: \"CNN\"\n",
      "_________________________________________________________________\n",
      "Layer (type)                 Output Shape              Param #   \n",
      "=================================================================\n",
      "Convolution_1 (Conv2D)       (None, 32, 32, 32)        896       \n",
      "_________________________________________________________________\n",
      "Max_Pooling_1 (MaxPooling2D) (None, 16, 16, 32)        0         \n",
      "_________________________________________________________________\n",
      "Convolution_2 (Conv2D)       (None, 16, 16, 64)        18496     \n",
      "_________________________________________________________________\n",
      "Max_Pooling_2 (MaxPooling2D) (None, 8, 8, 64)          0         \n",
      "_________________________________________________________________\n",
      "Convolution_3 (Conv2D)       (None, 8, 8, 128)         73856     \n",
      "_________________________________________________________________\n",
      "Max_Pooling_3 (MaxPooling2D) (None, 8, 8, 128)         0         \n",
      "_________________________________________________________________\n",
      "Convolution_4 (Conv2D)       (None, 8, 8, 10)          11530     \n",
      "_________________________________________________________________\n",
      "Flatten (Flatten)            (None, 640)               0         \n",
      "_________________________________________________________________\n",
      "Dense (Dense)                (None, 28)                17948     \n",
      "=================================================================\n",
      "Total params: 122,726\n",
      "Trainable params: 122,726\n",
      "Non-trainable params: 0\n",
      "_________________________________________________________________\n"
     ]
    }
   ],
   "source": [
    "input_shape = (32,32,3)\n",
    "\n",
    "model = Sequential( name='CNN' )\n",
    "\n",
    "model.add( Conv2D( 32, kernel_size=(3,3), padding='same', input_shape=input_shape, name='Convolution_1' ) )\n",
    "model.add( MaxPooling2D( pool_size=(2,2), name='Max_Pooling_1' ) )  \n",
    "\n",
    "model.add( Conv2D( 64, kernel_size=(3,3), padding='same', name='Convolution_2' ) )\n",
    "model.add( MaxPooling2D( pool_size=(2,2), name='Max_Pooling_2' ) ) \n",
    "\n",
    "model.add( Conv2D( 128, kernel_size=(3,3), padding='same', name='Convolution_3' ) )\n",
    "model.add( MaxPooling2D( pool_size=(1,1), name='Max_Pooling_3') )\n",
    "\n",
    "model.add( Conv2D( 10, kernel_size=(3,3), padding='same', name='Convolution_4' ) )\n",
    "model.add( Flatten( name='Flatten' ) ) \n",
    "\n",
    "model.add( Dense( 28, name='Dense' ) ) \n",
    "model.summary()"
   ]
  },
  {
   "cell_type": "markdown",
   "metadata": {},
   "source": [
    "### Input Shape = ( 32, 32, 3 )  \n",
    "*** \n",
    "#### Convolution_1   \n",
    "32 filters with kernel_size=(3,3), strides=(1,1) and padding='same'    \n",
    "- Total params = ( 3 X 3 X 3 + 1 ) * 32 = 896\n",
    "- Output Shape = ( 32, 32 )  \n",
    "  \n",
    "#### Max_Pooling_1  \n",
    "pool_size=(2,2) and strides=(2,2)  \n",
    "- Output Shape = ( $ \\lceil \\displaystyle \\frac{32 - 2 + 1}{2} \\rceil$, $\\lceil \\displaystyle \\frac{32 -2 + 1}{2} \\rceil$ ) = ( 16, 16 )   \n",
    "\n",
    "#### Convolution_2    \n",
    "64 filters with kernel_size=(3,3), strides=(1,1) and padding='same'    \n",
    "- Total params = ( 3 X 3 X 32 + 1 ) * 64 = 18,496\n",
    "- Output Shape = ( 16, 16 )  \n",
    "  \n",
    "#### Max_Pooling_2  \n",
    "pool_size=(2,2) and strides=(2,2)  \n",
    "- Output Shape = ( $ \\lceil \\displaystyle \\frac{16 - 2 + 1}{2} \\rceil$, $\\lceil \\displaystyle \\frac{16 - 2 + 1}{2} \\rceil$ ) = ( 8, 8 )   \n",
    "\n",
    "#### Convolution_3    \n",
    "128 filters with kernel_size=(3,3), strides=(1,1) and padding='same'    \n",
    "- Total params = ( 3 X 3 X 64 + 1 ) * 128 = 73,856\n",
    "- Output Shape = ( 8, 8 )   \n",
    "\n",
    "#### Max_Pooling_3  \n",
    "pool_size=(1,1) and strides=(1,1)  \n",
    "- Output Shape = ( $ \\lceil \\displaystyle \\frac{8 - 1 + 1}{1} \\rceil$, $\\lceil \\displaystyle \\frac{8 - 1 + 1}{1} \\rceil$ ) = ( 8, 8 )    \n",
    "\n",
    "#### Convolution_4   \n",
    "10 filters with kernel_size=(3,3), strides=(1,1) and padding='same'    \n",
    "- Total params = ( 3 X 3 X 128 + 1 ) * 10 = 11,530\n",
    "- Output Shape = ( 8, 8 )  \n",
    "\n",
    "#### Flatten   \n",
    "#### Dense   \n",
    "28 neurons   \n",
    "- Total params = 640 X 28 + 28 = 17,948   "
   ]
  },
  {
   "cell_type": "markdown",
   "metadata": {},
   "source": [
    "# (2) Convolution -> Global Average Pooling -> Dense"
   ]
  },
  {
   "cell_type": "code",
   "execution_count": 3,
   "metadata": {
    "colab": {},
    "colab_type": "code",
    "id": "nFgU3mB-xiDt",
    "outputId": "6fb884fa-75ad-4b47-b5c6-1fc948b2d614"
   },
   "outputs": [
    {
     "name": "stdout",
     "output_type": "stream",
     "text": [
      "Model: \"CNN\"\n",
      "_________________________________________________________________\n",
      "Layer (type)                 Output Shape              Param #   \n",
      "=================================================================\n",
      "Convolution_1 (Conv2D)       (None, 32, 32, 32)        896       \n",
      "_________________________________________________________________\n",
      "Max_Pooling_1 (MaxPooling2D) (None, 16, 16, 32)        0         \n",
      "_________________________________________________________________\n",
      "Convolution_2 (Conv2D)       (None, 16, 16, 64)        18496     \n",
      "_________________________________________________________________\n",
      "Max_Pooling_2 (MaxPooling2D) (None, 8, 8, 64)          0         \n",
      "_________________________________________________________________\n",
      "Convolution_3 (Conv2D)       (None, 8, 8, 128)         73856     \n",
      "_________________________________________________________________\n",
      "Max_Pooling_3 (MaxPooling2D) (None, 8, 8, 128)         0         \n",
      "_________________________________________________________________\n",
      "Convolution_4 (Conv2D)       (None, 8, 8, 10)          11530     \n",
      "_________________________________________________________________\n",
      "GlobalAveragePooling (Global (None, 10)                0         \n",
      "_________________________________________________________________\n",
      "Dense (Dense)                (None, 28)                308       \n",
      "=================================================================\n",
      "Total params: 105,086\n",
      "Trainable params: 105,086\n",
      "Non-trainable params: 0\n",
      "_________________________________________________________________\n"
     ]
    }
   ],
   "source": [
    "input_shape = (32,32,3)\n",
    "\n",
    "model = Sequential( name='CNN' )\n",
    "\n",
    "model.add( Conv2D( 32, kernel_size=(3,3), padding='same', input_shape=input_shape, name='Convolution_1' ) )\n",
    "model.add( MaxPooling2D( pool_size=(2,2), name='Max_Pooling_1' ) )  \n",
    "\n",
    "model.add( Conv2D( 64, kernel_size=(3,3), padding='same', name='Convolution_2' ) )\n",
    "model.add( MaxPooling2D( pool_size=(2,2), name='Max_Pooling_2' ) ) \n",
    "\n",
    "model.add( Conv2D( 128, kernel_size=(3,3), padding='same', name='Convolution_3' ) )\n",
    "model.add( MaxPooling2D( pool_size=(1,1), name='Max_Pooling_3') )\n",
    "\n",
    "model.add( Conv2D( 10, kernel_size=(3,3), padding='same', name='Convolution_4' ) )\n",
    "model.add( GlobalAveragePooling2D( name='GlobalAveragePooling' ) )\n",
    "\n",
    "model.add( Dense( 28, name='Dense' ) ) \n",
    "model.summary()"
   ]
  }
 ],
 "metadata": {
  "colab": {
   "name": "池化、全連接層.ipynb",
   "provenance": []
  },
  "kernelspec": {
   "display_name": "Python 3",
   "language": "python",
   "name": "python3"
  },
  "language_info": {
   "codemirror_mode": {
    "name": "ipython",
    "version": 3
   },
   "file_extension": ".py",
   "mimetype": "text/x-python",
   "name": "python",
   "nbconvert_exporter": "python",
   "pygments_lexer": "ipython3",
   "version": "3.7.6"
  }
 },
 "nbformat": 4,
 "nbformat_minor": 1
}
