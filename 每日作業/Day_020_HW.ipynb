{
 "cells": [
  {
   "cell_type": "markdown",
   "metadata": {},
   "source": [
    "## 『本次練習內容』\n",
    "#### 學習如何搭建 Residual Block\n",
    "####  學習如何搭建Inception-ResNet中的 Inception Block"
   ]
  },
  {
   "cell_type": "markdown",
   "metadata": {},
   "source": [
    "## 『本次練習目的』\n",
    "  #### 了解 Residual Block原理\n",
    "  #### 了解如何結合Inception 與 Residual概念"
   ]
  },
  {
   "cell_type": "markdown",
   "metadata": {},
   "source": [
    "---"
   ]
  },
  {
   "cell_type": "markdown",
   "metadata": {},
   "source": [
    "## Part1"
   ]
  },
  {
   "cell_type": "code",
   "execution_count": 1,
   "metadata": {},
   "outputs": [],
   "source": [
    "import numpy as np\n",
    "import tensorflow as tf\n",
    "from tensorflow.keras import layers\n",
    "from tensorflow.keras import backend as K\n",
    "from tensorflow.keras.models import Sequential, Model\n",
    "from tensorflow.keras.layers import Input, Conv2D, MaxPooling2D, GlobalMaxPooling2D, GlobalAveragePooling2D, BatchNormalization, Flatten, Dense, Activation, Dropout, Lambda, Concatenate "
   ]
  },
  {
   "cell_type": "markdown",
   "metadata": {},
   "source": [
    "![Inception](https://raw.githubusercontent.com/YenLinWu/DL_CVMarathon/master/IMAGE/Day_020/ResNet_Structure.png)"
   ]
  },
  {
   "cell_type": "markdown",
   "metadata": {},
   "source": [
    "## ResNetV1"
   ]
  },
  {
   "cell_type": "code",
   "execution_count": 2,
   "metadata": {},
   "outputs": [],
   "source": [
    "def Residual_block( input_tensor, kernel_size, filters, stage, block ):\n",
    "    \n",
    "    filters1, filters2, filters3 = filters\n",
    "    conv_name_base = 'res' + str(stage) + block + '_branch'\n",
    "    bn_name_base = 'bn' + str(stage) + block + '_branch'\n",
    "\n",
    "    x = Conv2D( filters1, (1,1), name=conv_name_base + '2a' )(input_tensor)\n",
    "    x = BatchNormalization( axis=3, name=bn_name_base + '2a' )(x)\n",
    "    x = Activation( 'relu' )(x)\n",
    "\n",
    "    x = Conv2D( filters2, kernel_size,\n",
    "                padding='same', name=conv_name_base + '2b' )(x)\n",
    "    x = BatchNormalization( axis=3, name=bn_name_base + '2b' )(x)\n",
    "\n",
    "    x = layers.add( [ x, input_tensor ] )\n",
    "    x = Activation( 'relu' )(x)\n",
    "    \n",
    "    return x"
   ]
  },
  {
   "cell_type": "markdown",
   "metadata": {},
   "source": [
    "## 參考ResNetV1 搭建 ResNetV2版本的Residual Block"
   ]
  },
  {
   "cell_type": "code",
   "execution_count": 3,
   "metadata": {},
   "outputs": [],
   "source": [
    "def Residual_block_v2( input_tensor, kernel_size, filters, stage, block ):\n",
    "    \n",
    "    filters1, filters2, filters3 = filters\n",
    "    conv_name_base = 'res' + str(stage) + block + '_branch'\n",
    "    bn_name_base = 'bn' + str(stage) + block + '_branch'\n",
    "\n",
    "    x = BatchNormalization( axis=3, name=bn_name_base + '2a' )(input_tensor)\n",
    "    x = Activation( 'relu' )(x)\n",
    "    x = Conv2D( filters1, kernel_size, padding='same', name=conv_name_base + '2a' )(x)\n",
    "    \n",
    "    x = BatchNormalization( axis=3, name=bn_name_base + '2b' )(x)\n",
    "    x = Activation( 'relu' )(x)\n",
    "    x = Conv2D( filters2, (1,1), name=conv_name_base + '2b' )(x)\n",
    "    \n",
    "    x = layers.add( [x, input_tensor] )\n",
    "    \n",
    "    return x"
   ]
  },
  {
   "cell_type": "markdown",
   "metadata": {},
   "source": [
    "## 試試看自己設計一個先壓縮再回放的V2 Block"
   ]
  },
  {
   "cell_type": "code",
   "execution_count": 4,
   "metadata": {},
   "outputs": [],
   "source": [
    "def Residual_block_v2( input_tensor, kernel_size, stage, block,reduce=96, ouput_size=128 ):\n",
    "    \n",
    "    conv_name_base = 'res' + str(stage) + block + '_branch'\n",
    "    bn_name_base = 'bn' + str(stage) + block + '_branch'\n",
    "\n",
    "    x = Conv2D( reduce, (1,1), name=conv_name_base + '2a' )(input_tensor)\n",
    "    x = BatchNormalization( axis=3, name=bn_name_base + '2a' )(x)\n",
    "    x = Activation( 'relu' )(x)\n",
    "\n",
    "    x = Conv2D( reduce, kernel_size,\n",
    "                padding='same', name=conv_name_base + '2b' )(x)\n",
    "    x = BatchNormalization( axis=3, name=bn_name_base + '2b' )(x)\n",
    "    x = Activation( 'relu' )(x)\n",
    "\n",
    "    x = Conv2D( ouput_size, (1,1), name=conv_name_base + '2c' )(x)\n",
    "\n",
    "    x = layers.add( [x, input_tensor] )\n",
    "    \n",
    "    return x"
   ]
  },
  {
   "cell_type": "markdown",
   "metadata": {},
   "source": [
    "---"
   ]
  },
  {
   "cell_type": "markdown",
   "metadata": {},
   "source": [
    "## Part2"
   ]
  },
  {
   "cell_type": "markdown",
   "metadata": {
    "colab_type": "text",
    "id": "tfa8Vx5iJbZU"
   },
   "source": [
    "## Incpetion Block-A"
   ]
  },
  {
   "cell_type": "markdown",
   "metadata": {
    "colab_type": "text",
    "id": "xbuyi79mJbZX"
   },
   "source": [
    "![Inception](https://raw.githubusercontent.com/YenLinWu/DL_CVMarathon/master/IMAGE/Day_020/Inception-ResNet-A.png)"
   ]
  },
  {
   "cell_type": "markdown",
   "metadata": {
    "colab_type": "text",
    "id": "3GI24k24JbZa"
   },
   "source": [
    "## Incpetion Block-B"
   ]
  },
  {
   "cell_type": "markdown",
   "metadata": {
    "colab_type": "text",
    "id": "Ge28e58BJbZd"
   },
   "source": [
    "![Inception](https://raw.githubusercontent.com/YenLinWu/DL_CVMarathon/master/IMAGE/Day_020/Inception-ResNet-B.png)"
   ]
  },
  {
   "cell_type": "markdown",
   "metadata": {
    "colab_type": "text",
    "id": "aMz1WNBsJbZg"
   },
   "source": [
    "## Incpetion Block-C"
   ]
  },
  {
   "cell_type": "markdown",
   "metadata": {
    "colab_type": "text",
    "id": "A4lY1HV6JbZj"
   },
   "source": [
    "![Inception](https://raw.githubusercontent.com/YenLinWu/DL_CVMarathon/master/IMAGE/Day_020/Inception-ResNet-C.png)"
   ]
  },
  {
   "cell_type": "code",
   "execution_count": 5,
   "metadata": {
    "colab": {},
    "colab_type": "code",
    "id": "t9IKAa_4JbZ1"
   },
   "outputs": [],
   "source": [
    "def Conv2d_bn( x, filters,kernel_size, padding='same', strides=(1,1), normalizer=True, activation='relu', name=None ):\n",
    "    \n",
    "    if name is not None:\n",
    "        conv_name = name + '_conv'\n",
    "        bn_name = name + '_bn'\n",
    "        act_name = name + '_act'\n",
    "    else:\n",
    "        conv_name = None\n",
    "        bn_name = None\n",
    "        act_name = None\n",
    "    \n",
    "    if K.image_data_format() == 'channels_first':\n",
    "        bn_axis = 1\n",
    "    else:\n",
    "        bn_axis = 3\n",
    "    \n",
    "    x = Conv2D( filters, kernel_size, strides=strides, padding=padding, use_bias=False, name=conv_name )(x)\n",
    "    \n",
    "    if normalizer:\n",
    "        x = BatchNormalization( axis=bn_axis, scale=False, name=bn_name )(x)\n",
    "    if activation:\n",
    "        x = Activation( activation, name=act_name )(x)\n",
    "    \n",
    "    return x"
   ]
  },
  {
   "cell_type": "code",
   "execution_count": 6,
   "metadata": {
    "colab": {},
    "colab_type": "code",
    "id": "d7iVPJQkJbZ-"
   },
   "outputs": [],
   "source": [
    "def Residual_block( input_tensor, kernel_size, filters, stage, block ):\n",
    "    \n",
    "    filters1, filters2, filters3 = filters\n",
    "    conv_name_base = 'res' + str(stage) + block + '_branch'\n",
    "    bn_name_base = 'bn' + str(stage) + block + '_branch'\n",
    "\n",
    "    x = Conv2D( filters1, (1,1), name=conv_name_base + '2a' )(input_tensor)\n",
    "    x = BatchNormalization( axis=3, name=bn_name_base + '2a' )(x)\n",
    "    x = Activation( 'relu' )(x)\n",
    "\n",
    "    x = Conv2D( filters2, kernel_size, padding='same', name=conv_name_base + '2b' )(x)\n",
    "    x = BatchNormalization( axis=3, name=bn_name_base + '2b' )(x)\n",
    "    x = Activation( 'relu' )(x)\n",
    "\n",
    "    x = Conv2D( filters3, (1,1), name=conv_name_base + '2c' )(x)\n",
    "    x = BatchNormalization( axis=3, name=bn_name_base + '2c' )(x)\n",
    "\n",
    "    x = layers.add( [x, input_tensor] )\n",
    "    x = Activation( 'relu' )(x)\n",
    "    \n",
    "    return x"
   ]
  },
  {
   "cell_type": "markdown",
   "metadata": {
    "colab_type": "text",
    "id": "M0BEkO7VJbaI"
   },
   "source": [
    "## 參考上方Residual_block搭建 Inception-ResNet中的Inception Block"
   ]
  },
  {
   "cell_type": "code",
   "execution_count": 7,
   "metadata": {
    "colab": {},
    "colab_type": "code",
    "id": "XJjxq9lWJbaN"
   },
   "outputs": [],
   "source": [
    "def inception_resnet_block(x, scale, block_type, activation='relu'):\n",
    "    '''scale: scaling factor to scale the residuals (i.e., the output of\n",
    "            passing `x` through an inception module) before adding them\n",
    "            to the shortcut branch. Let `r` be the output from the residual branch,\n",
    "            the output of this block will be `x + scale * r`.(簡單來說就是控制Residual branch的比例)'''\n",
    "    if block_type == 'Incpetion_Block-A':\n",
    "        branch_0 = Conv2d_bn(x, 32, 1)\n",
    "        branch_1 = Conv2d_bn(x, 32, 1)\n",
    "        branch_1 = Conv2d_bn(branch_1, 32, 3)\n",
    "        branch_2 = Conv2d_bn(x, 32, 1)\n",
    "        branch_2 = Conv2d_bn(branch_2, 48, 3)\n",
    "        branch_2 = Conv2d_bn(branch_2, 64, 3)\n",
    "        branches = [branch_0, branch_1, branch_2]\n",
    "    elif block_type == 'Incpetion_Block-B':\n",
    "        branch_0 = Conv2d_bn(x, 192, 1)\n",
    "        branch_1 = Conv2d_bn(x, 128, 1)\n",
    "        branch_1 = Conv2d_bn(branch_1, 160, [1, 7])\n",
    "        branch_1 = Conv2d_bn(branch_1, 192, [7, 1])\n",
    "        branches = [branch_0, branch_1]\n",
    "    elif block_type == 'Incpetion_Block-C':\n",
    "        branch_0 = Conv2d_bn(x, 192, 1)\n",
    "        branch_1 = Conv2d_bn(x, 192, 1)\n",
    "        branch_1 = Conv2d_bn(branch_1, 192, [1, 3])\n",
    "        branch_1 = Conv2d_bn(branch_1, 192, [3, 1])\n",
    "        branches = [branch_0, branch_1]\n",
    "    else:\n",
    "        raise ValueError( 'Unknown Inception-ResNet block type. '\n",
    "                          'Expects \"block35\", \"block17\" or \"block8\", '\n",
    "                          'but got: ' + str(block_type) )\n",
    "    mixed = Concatenate(axis=3)(branches)\n",
    "    \n",
    "    '''確保輸入跟輸出深度相同'''\n",
    "    up = Conv2d_bn(mixed,K.int_shape(x)[3],1,activation=None)\n",
    "    \n",
    "    '''導入殘差結構，並給予權重'''\n",
    "    x = Lambda( lambda inputs, scale: inputs[0] + inputs[1] * scale, \n",
    "                output_shape=K.int_shape(x)[1:],\n",
    "                arguments={'scale': scale}, )([x,up])\n",
    "    \n",
    "    if activation is not None:\n",
    "        x = Activation(activation)(x)\n",
    "    \n",
    "    return x"
   ]
  },
  {
   "cell_type": "code",
   "execution_count": 8,
   "metadata": {
    "colab": {},
    "colab_type": "code",
    "id": "wv-ni8GpJbaU",
    "outputId": "dcf7198f-59a6-4eac-d912-565146b1ce16"
   },
   "outputs": [
    {
     "name": "stdout",
     "output_type": "stream",
     "text": [
      "Tensor(\"activation_6/Identity:0\", shape=(None, 224, 224, 32), dtype=float32)\n"
     ]
    }
   ],
   "source": [
    "img_input = Input(shape=(224,224,32))\n",
    "x=inception_resnet_block(img_input, 0.1, 'Incpetion_Block-A', activation='relu')\n",
    "print(x)"
   ]
  },
  {
   "cell_type": "markdown",
   "metadata": {
    "colab_type": "text",
    "id": "HOBuOAjOJbab"
   },
   "source": [
    "## 測試"
   ]
  },
  {
   "cell_type": "code",
   "execution_count": 9,
   "metadata": {
    "colab": {},
    "colab_type": "code",
    "id": "T-igNjppJbad",
    "outputId": "0455b644-5456-4145-d719-3878348aa4cb"
   },
   "outputs": [
    {
     "name": "stdout",
     "output_type": "stream",
     "text": [
      "Tensor(\"activation_13/Identity:0\", shape=(None, 224, 224, 32), dtype=float32)\n"
     ]
    }
   ],
   "source": [
    "img_input = Input( shape=(224,224,32) )\n",
    "x = inception_resnet_block( img_input, 0.1, 'Incpetion_Block-A', activation='relu' )\n",
    "\n",
    "print(x)"
   ]
  },
  {
   "cell_type": "code",
   "execution_count": 10,
   "metadata": {
    "colab": {},
    "colab_type": "code",
    "id": "V7otKKZWJbah",
    "outputId": "bca7b98f-b8ab-4318-d884-77c8ee7c7fa8"
   },
   "outputs": [
    {
     "name": "stdout",
     "output_type": "stream",
     "text": [
      "Tensor(\"activation_18/Identity:0\", shape=(None, 224, 224, 32), dtype=float32)\n"
     ]
    }
   ],
   "source": [
    "img_input = Input( shape=(224,224,32) )\n",
    "x = inception_resnet_block( img_input, 0.1, 'Incpetion_Block-B', activation='relu' )\n",
    "\n",
    "print(x)"
   ]
  },
  {
   "cell_type": "code",
   "execution_count": 11,
   "metadata": {
    "colab": {},
    "colab_type": "code",
    "id": "RjxCkTlHJbal",
    "outputId": "462b602c-2a47-4790-eff4-13c875aba275"
   },
   "outputs": [
    {
     "name": "stdout",
     "output_type": "stream",
     "text": [
      "Tensor(\"activation_23/Identity:0\", shape=(None, 224, 224, 32), dtype=float32)\n"
     ]
    }
   ],
   "source": [
    "img_input = Input( shape=(224,224,32) )\n",
    "x = inception_resnet_block( img_input, 0.1, 'Incpetion_Block-C', activation='relu' )\n",
    "\n",
    "print(x)"
   ]
  },
  {
   "cell_type": "markdown",
   "metadata": {
    "colab_type": "text",
    "id": "UYD4kS0BJbao"
   },
   "source": [
    "## 嘗試導入Inception Block到 Vgg_Inception中"
   ]
  },
  {
   "cell_type": "code",
   "execution_count": 12,
   "metadata": {
    "colab": {},
    "colab_type": "code",
    "id": "FEe8WW2qJbap"
   },
   "outputs": [],
   "source": [
    "def VGG16_ResNet_Inception( include_top=True, input_tensor=None, input_shape=(224,224,1), pooling='max' ,classes=1000 ):\n",
    " \n",
    "    img_input = Input(shape=input_shape)\n",
    "\n",
    "    x = Conv2d_bn(img_input,64, (3, 3), activation='relu', padding='same', name='block1_conv1')\n",
    "    x = Conv2d_bn(x,64, (3, 3), activation='relu', padding='same', name='block1_conv2')\n",
    "    x = MaxPooling2D((2, 2), strides=(2, 2), name='block1_pool')(x)\n",
    "\n",
    "    # Block 2\n",
    "    x = Conv2d_bn(x,128, (3, 3), activation='relu', padding='same', name='block2_conv1')\n",
    "    x = Conv2d_bn(x,128, (3, 3), activation='relu', padding='same', name='block2_conv2')\n",
    "    x = MaxPooling2D((2, 2), strides=(2, 2), name='block2_pool')(x)\n",
    "\n",
    "    # Block 3\n",
    "    x = inception_resnet_block(x, 0.1, 'Incpetion_Block-A', activation='relu')\n",
    "    x = inception_resnet_block(x, 0.1, 'Incpetion_Block-A', activation='relu')\n",
    "    x = inception_resnet_block(x, 0.1, 'Incpetion_Block-A', activation='relu')\n",
    "    x = MaxPooling2D((2, 2), strides=(2, 2), name='block3_pool')(x)\n",
    "\n",
    "    # Block 4\n",
    "    x = Conv2d_bn(x,512, (3, 3), activation='relu', padding='same', name='block4_conv1')\n",
    "    x = Conv2d_bn(x,512, (3, 3), activation='relu', padding='same', name='block4_conv2')\n",
    "    x = Conv2d_bn(x,512, (3, 3), activation='relu', padding='same', name='block4_conv3')\n",
    "    x = MaxPooling2D((2, 2), strides=(2, 2), name='block4_pool')(x)\n",
    "\n",
    "    # Block 5\n",
    "    x =inception_resnet_block(x, 0.1, 'Incpetion_Block-B', activation='relu')\n",
    "    x =inception_resnet_block(x, 0.1, 'Incpetion_Block-B', activation='relu')\n",
    "    x =inception_resnet_block(x, 0.1, 'Incpetion_Block-B', activation='relu')\n",
    "    x =MaxPooling2D((2, 2), strides=(2, 2), name='block5_pool')(x)\n",
    "\n",
    "    if include_top:\n",
    "        # Classification block\n",
    "        x = Flatten(name='flatten')(x)\n",
    "        x = Dense(4096, activation='relu', name='fc1')(x)\n",
    "        x = Dense(4096, activation='relu', name='fc2')(x)\n",
    "        x = Dense(classes, activation='softmax', name='predictions')(x)\n",
    "    else:\n",
    "       #可以提醒學員為什麼要加avg或是max\n",
    "        if pooling == 'avg':\n",
    "            x = GlobalAveragePooling2D()(x)\n",
    "        elif pooling == 'max':\n",
    "            x = GlobalMaxPooling2D()(x)\n",
    "\n",
    "    inputs = img_input\n",
    "    \n",
    "    # Create model.\n",
    "    model = Model(inputs, x, name='vgg16')\n",
    "\n",
    "    return model"
   ]
  },
  {
   "cell_type": "code",
   "execution_count": 13,
   "metadata": {
    "colab": {},
    "colab_type": "code",
    "id": "mQufg4jFJbas"
   },
   "outputs": [],
   "source": [
    "model = VGG16_ResNet_Inception( include_top=False )"
   ]
  },
  {
   "cell_type": "code",
   "execution_count": 14,
   "metadata": {
    "colab": {},
    "colab_type": "code",
    "id": "e3WfMLiYJbav"
   },
   "outputs": [
    {
     "name": "stdout",
     "output_type": "stream",
     "text": [
      "Model: \"vgg16\"\n",
      "__________________________________________________________________________________________________\n",
      "Layer (type)                    Output Shape         Param #     Connected to                     \n",
      "==================================================================================================\n",
      "input_5 (InputLayer)            [(None, 224, 224, 1) 0                                            \n",
      "__________________________________________________________________________________________________\n",
      "block1_conv1_conv (Conv2D)      (None, 224, 224, 64) 576         input_5[0][0]                    \n",
      "__________________________________________________________________________________________________\n",
      "block1_conv1_bn (BatchNormaliza (None, 224, 224, 64) 192         block1_conv1_conv[0][0]          \n",
      "__________________________________________________________________________________________________\n",
      "block1_conv1_act (Activation)   (None, 224, 224, 64) 0           block1_conv1_bn[0][0]            \n",
      "__________________________________________________________________________________________________\n",
      "block1_conv2_conv (Conv2D)      (None, 224, 224, 64) 36864       block1_conv1_act[0][0]           \n",
      "__________________________________________________________________________________________________\n",
      "block1_conv2_bn (BatchNormaliza (None, 224, 224, 64) 192         block1_conv2_conv[0][0]          \n",
      "__________________________________________________________________________________________________\n",
      "block1_conv2_act (Activation)   (None, 224, 224, 64) 0           block1_conv2_bn[0][0]            \n",
      "__________________________________________________________________________________________________\n",
      "block1_pool (MaxPooling2D)      (None, 112, 112, 64) 0           block1_conv2_act[0][0]           \n",
      "__________________________________________________________________________________________________\n",
      "block2_conv1_conv (Conv2D)      (None, 112, 112, 128 73728       block1_pool[0][0]                \n",
      "__________________________________________________________________________________________________\n",
      "block2_conv1_bn (BatchNormaliza (None, 112, 112, 128 384         block2_conv1_conv[0][0]          \n",
      "__________________________________________________________________________________________________\n",
      "block2_conv1_act (Activation)   (None, 112, 112, 128 0           block2_conv1_bn[0][0]            \n",
      "__________________________________________________________________________________________________\n",
      "block2_conv2_conv (Conv2D)      (None, 112, 112, 128 147456      block2_conv1_act[0][0]           \n",
      "__________________________________________________________________________________________________\n",
      "block2_conv2_bn (BatchNormaliza (None, 112, 112, 128 384         block2_conv2_conv[0][0]          \n",
      "__________________________________________________________________________________________________\n",
      "block2_conv2_act (Activation)   (None, 112, 112, 128 0           block2_conv2_bn[0][0]            \n",
      "__________________________________________________________________________________________________\n",
      "block2_pool (MaxPooling2D)      (None, 56, 56, 128)  0           block2_conv2_act[0][0]           \n",
      "__________________________________________________________________________________________________\n",
      "conv2d_27 (Conv2D)              (None, 56, 56, 32)   4096        block2_pool[0][0]                \n",
      "__________________________________________________________________________________________________\n",
      "batch_normalization_27 (BatchNo (None, 56, 56, 32)   96          conv2d_27[0][0]                  \n",
      "__________________________________________________________________________________________________\n",
      "activation_27 (Activation)      (None, 56, 56, 32)   0           batch_normalization_27[0][0]     \n",
      "__________________________________________________________________________________________________\n",
      "conv2d_25 (Conv2D)              (None, 56, 56, 32)   4096        block2_pool[0][0]                \n",
      "__________________________________________________________________________________________________\n",
      "conv2d_28 (Conv2D)              (None, 56, 56, 48)   13824       activation_27[0][0]              \n",
      "__________________________________________________________________________________________________\n",
      "batch_normalization_25 (BatchNo (None, 56, 56, 32)   96          conv2d_25[0][0]                  \n",
      "__________________________________________________________________________________________________\n",
      "batch_normalization_28 (BatchNo (None, 56, 56, 48)   144         conv2d_28[0][0]                  \n",
      "__________________________________________________________________________________________________\n",
      "activation_25 (Activation)      (None, 56, 56, 32)   0           batch_normalization_25[0][0]     \n",
      "__________________________________________________________________________________________________\n",
      "activation_28 (Activation)      (None, 56, 56, 48)   0           batch_normalization_28[0][0]     \n",
      "__________________________________________________________________________________________________\n",
      "conv2d_24 (Conv2D)              (None, 56, 56, 32)   4096        block2_pool[0][0]                \n",
      "__________________________________________________________________________________________________\n",
      "conv2d_26 (Conv2D)              (None, 56, 56, 32)   9216        activation_25[0][0]              \n",
      "__________________________________________________________________________________________________\n",
      "conv2d_29 (Conv2D)              (None, 56, 56, 64)   27648       activation_28[0][0]              \n",
      "__________________________________________________________________________________________________\n",
      "batch_normalization_24 (BatchNo (None, 56, 56, 32)   96          conv2d_24[0][0]                  \n",
      "__________________________________________________________________________________________________\n",
      "batch_normalization_26 (BatchNo (None, 56, 56, 32)   96          conv2d_26[0][0]                  \n",
      "__________________________________________________________________________________________________\n",
      "batch_normalization_29 (BatchNo (None, 56, 56, 64)   192         conv2d_29[0][0]                  \n",
      "__________________________________________________________________________________________________\n",
      "activation_24 (Activation)      (None, 56, 56, 32)   0           batch_normalization_24[0][0]     \n",
      "__________________________________________________________________________________________________\n",
      "activation_26 (Activation)      (None, 56, 56, 32)   0           batch_normalization_26[0][0]     \n",
      "__________________________________________________________________________________________________\n",
      "activation_29 (Activation)      (None, 56, 56, 64)   0           batch_normalization_29[0][0]     \n",
      "__________________________________________________________________________________________________\n",
      "concatenate_4 (Concatenate)     (None, 56, 56, 128)  0           activation_24[0][0]              \n",
      "                                                                 activation_26[0][0]              \n",
      "                                                                 activation_29[0][0]              \n",
      "__________________________________________________________________________________________________\n",
      "conv2d_30 (Conv2D)              (None, 56, 56, 128)  16384       concatenate_4[0][0]              \n",
      "__________________________________________________________________________________________________\n",
      "batch_normalization_30 (BatchNo (None, 56, 56, 128)  384         conv2d_30[0][0]                  \n",
      "__________________________________________________________________________________________________\n",
      "lambda_4 (Lambda)               (None, 56, 56, 128)  0           block2_pool[0][0]                \n",
      "                                                                 batch_normalization_30[0][0]     \n",
      "__________________________________________________________________________________________________\n",
      "activation_30 (Activation)      (None, 56, 56, 128)  0           lambda_4[0][0]                   \n",
      "__________________________________________________________________________________________________\n",
      "conv2d_34 (Conv2D)              (None, 56, 56, 32)   4096        activation_30[0][0]              \n",
      "__________________________________________________________________________________________________\n",
      "batch_normalization_34 (BatchNo (None, 56, 56, 32)   96          conv2d_34[0][0]                  \n",
      "__________________________________________________________________________________________________\n",
      "activation_34 (Activation)      (None, 56, 56, 32)   0           batch_normalization_34[0][0]     \n",
      "__________________________________________________________________________________________________\n",
      "conv2d_32 (Conv2D)              (None, 56, 56, 32)   4096        activation_30[0][0]              \n",
      "__________________________________________________________________________________________________\n",
      "conv2d_35 (Conv2D)              (None, 56, 56, 48)   13824       activation_34[0][0]              \n",
      "__________________________________________________________________________________________________\n",
      "batch_normalization_32 (BatchNo (None, 56, 56, 32)   96          conv2d_32[0][0]                  \n",
      "__________________________________________________________________________________________________\n",
      "batch_normalization_35 (BatchNo (None, 56, 56, 48)   144         conv2d_35[0][0]                  \n",
      "__________________________________________________________________________________________________\n",
      "activation_32 (Activation)      (None, 56, 56, 32)   0           batch_normalization_32[0][0]     \n",
      "__________________________________________________________________________________________________\n",
      "activation_35 (Activation)      (None, 56, 56, 48)   0           batch_normalization_35[0][0]     \n",
      "__________________________________________________________________________________________________\n",
      "conv2d_31 (Conv2D)              (None, 56, 56, 32)   4096        activation_30[0][0]              \n",
      "__________________________________________________________________________________________________\n",
      "conv2d_33 (Conv2D)              (None, 56, 56, 32)   9216        activation_32[0][0]              \n",
      "__________________________________________________________________________________________________\n",
      "conv2d_36 (Conv2D)              (None, 56, 56, 64)   27648       activation_35[0][0]              \n",
      "__________________________________________________________________________________________________\n",
      "batch_normalization_31 (BatchNo (None, 56, 56, 32)   96          conv2d_31[0][0]                  \n",
      "__________________________________________________________________________________________________\n",
      "batch_normalization_33 (BatchNo (None, 56, 56, 32)   96          conv2d_33[0][0]                  \n",
      "__________________________________________________________________________________________________\n",
      "batch_normalization_36 (BatchNo (None, 56, 56, 64)   192         conv2d_36[0][0]                  \n",
      "__________________________________________________________________________________________________\n",
      "activation_31 (Activation)      (None, 56, 56, 32)   0           batch_normalization_31[0][0]     \n",
      "__________________________________________________________________________________________________\n",
      "activation_33 (Activation)      (None, 56, 56, 32)   0           batch_normalization_33[0][0]     \n",
      "__________________________________________________________________________________________________\n",
      "activation_36 (Activation)      (None, 56, 56, 64)   0           batch_normalization_36[0][0]     \n",
      "__________________________________________________________________________________________________\n",
      "concatenate_5 (Concatenate)     (None, 56, 56, 128)  0           activation_31[0][0]              \n",
      "                                                                 activation_33[0][0]              \n",
      "                                                                 activation_36[0][0]              \n",
      "__________________________________________________________________________________________________\n",
      "conv2d_37 (Conv2D)              (None, 56, 56, 128)  16384       concatenate_5[0][0]              \n",
      "__________________________________________________________________________________________________\n",
      "batch_normalization_37 (BatchNo (None, 56, 56, 128)  384         conv2d_37[0][0]                  \n",
      "__________________________________________________________________________________________________\n",
      "lambda_5 (Lambda)               (None, 56, 56, 128)  0           activation_30[0][0]              \n",
      "                                                                 batch_normalization_37[0][0]     \n",
      "__________________________________________________________________________________________________\n",
      "activation_37 (Activation)      (None, 56, 56, 128)  0           lambda_5[0][0]                   \n",
      "__________________________________________________________________________________________________\n",
      "conv2d_41 (Conv2D)              (None, 56, 56, 32)   4096        activation_37[0][0]              \n",
      "__________________________________________________________________________________________________\n",
      "batch_normalization_41 (BatchNo (None, 56, 56, 32)   96          conv2d_41[0][0]                  \n",
      "__________________________________________________________________________________________________\n",
      "activation_41 (Activation)      (None, 56, 56, 32)   0           batch_normalization_41[0][0]     \n",
      "__________________________________________________________________________________________________\n",
      "conv2d_39 (Conv2D)              (None, 56, 56, 32)   4096        activation_37[0][0]              \n",
      "__________________________________________________________________________________________________\n",
      "conv2d_42 (Conv2D)              (None, 56, 56, 48)   13824       activation_41[0][0]              \n",
      "__________________________________________________________________________________________________\n",
      "batch_normalization_39 (BatchNo (None, 56, 56, 32)   96          conv2d_39[0][0]                  \n",
      "__________________________________________________________________________________________________\n",
      "batch_normalization_42 (BatchNo (None, 56, 56, 48)   144         conv2d_42[0][0]                  \n",
      "__________________________________________________________________________________________________\n",
      "activation_39 (Activation)      (None, 56, 56, 32)   0           batch_normalization_39[0][0]     \n",
      "__________________________________________________________________________________________________\n",
      "activation_42 (Activation)      (None, 56, 56, 48)   0           batch_normalization_42[0][0]     \n",
      "__________________________________________________________________________________________________\n",
      "conv2d_38 (Conv2D)              (None, 56, 56, 32)   4096        activation_37[0][0]              \n",
      "__________________________________________________________________________________________________\n",
      "conv2d_40 (Conv2D)              (None, 56, 56, 32)   9216        activation_39[0][0]              \n",
      "__________________________________________________________________________________________________\n",
      "conv2d_43 (Conv2D)              (None, 56, 56, 64)   27648       activation_42[0][0]              \n",
      "__________________________________________________________________________________________________\n",
      "batch_normalization_38 (BatchNo (None, 56, 56, 32)   96          conv2d_38[0][0]                  \n",
      "__________________________________________________________________________________________________\n",
      "batch_normalization_40 (BatchNo (None, 56, 56, 32)   96          conv2d_40[0][0]                  \n",
      "__________________________________________________________________________________________________\n",
      "batch_normalization_43 (BatchNo (None, 56, 56, 64)   192         conv2d_43[0][0]                  \n",
      "__________________________________________________________________________________________________\n",
      "activation_38 (Activation)      (None, 56, 56, 32)   0           batch_normalization_38[0][0]     \n",
      "__________________________________________________________________________________________________\n",
      "activation_40 (Activation)      (None, 56, 56, 32)   0           batch_normalization_40[0][0]     \n",
      "__________________________________________________________________________________________________\n",
      "activation_43 (Activation)      (None, 56, 56, 64)   0           batch_normalization_43[0][0]     \n",
      "__________________________________________________________________________________________________\n",
      "concatenate_6 (Concatenate)     (None, 56, 56, 128)  0           activation_38[0][0]              \n",
      "                                                                 activation_40[0][0]              \n",
      "                                                                 activation_43[0][0]              \n",
      "__________________________________________________________________________________________________\n",
      "conv2d_44 (Conv2D)              (None, 56, 56, 128)  16384       concatenate_6[0][0]              \n",
      "__________________________________________________________________________________________________\n",
      "batch_normalization_44 (BatchNo (None, 56, 56, 128)  384         conv2d_44[0][0]                  \n",
      "__________________________________________________________________________________________________\n",
      "lambda_6 (Lambda)               (None, 56, 56, 128)  0           activation_37[0][0]              \n",
      "                                                                 batch_normalization_44[0][0]     \n",
      "__________________________________________________________________________________________________\n",
      "activation_44 (Activation)      (None, 56, 56, 128)  0           lambda_6[0][0]                   \n",
      "__________________________________________________________________________________________________\n",
      "block3_pool (MaxPooling2D)      (None, 28, 28, 128)  0           activation_44[0][0]              \n",
      "__________________________________________________________________________________________________\n",
      "block4_conv1_conv (Conv2D)      (None, 28, 28, 512)  589824      block3_pool[0][0]                \n",
      "__________________________________________________________________________________________________\n",
      "block4_conv1_bn (BatchNormaliza (None, 28, 28, 512)  1536        block4_conv1_conv[0][0]          \n",
      "__________________________________________________________________________________________________\n",
      "block4_conv1_act (Activation)   (None, 28, 28, 512)  0           block4_conv1_bn[0][0]            \n",
      "__________________________________________________________________________________________________\n",
      "block4_conv2_conv (Conv2D)      (None, 28, 28, 512)  2359296     block4_conv1_act[0][0]           \n",
      "__________________________________________________________________________________________________\n",
      "block4_conv2_bn (BatchNormaliza (None, 28, 28, 512)  1536        block4_conv2_conv[0][0]          \n",
      "__________________________________________________________________________________________________\n",
      "block4_conv2_act (Activation)   (None, 28, 28, 512)  0           block4_conv2_bn[0][0]            \n",
      "__________________________________________________________________________________________________\n",
      "block4_conv3_conv (Conv2D)      (None, 28, 28, 512)  2359296     block4_conv2_act[0][0]           \n",
      "__________________________________________________________________________________________________\n",
      "block4_conv3_bn (BatchNormaliza (None, 28, 28, 512)  1536        block4_conv3_conv[0][0]          \n",
      "__________________________________________________________________________________________________\n",
      "block4_conv3_act (Activation)   (None, 28, 28, 512)  0           block4_conv3_bn[0][0]            \n",
      "__________________________________________________________________________________________________\n",
      "block4_pool (MaxPooling2D)      (None, 14, 14, 512)  0           block4_conv3_act[0][0]           \n",
      "__________________________________________________________________________________________________\n",
      "conv2d_46 (Conv2D)              (None, 14, 14, 128)  65536       block4_pool[0][0]                \n",
      "__________________________________________________________________________________________________\n",
      "batch_normalization_46 (BatchNo (None, 14, 14, 128)  384         conv2d_46[0][0]                  \n",
      "__________________________________________________________________________________________________\n",
      "activation_46 (Activation)      (None, 14, 14, 128)  0           batch_normalization_46[0][0]     \n",
      "__________________________________________________________________________________________________\n",
      "conv2d_47 (Conv2D)              (None, 14, 14, 160)  143360      activation_46[0][0]              \n",
      "__________________________________________________________________________________________________\n",
      "batch_normalization_47 (BatchNo (None, 14, 14, 160)  480         conv2d_47[0][0]                  \n",
      "__________________________________________________________________________________________________\n",
      "activation_47 (Activation)      (None, 14, 14, 160)  0           batch_normalization_47[0][0]     \n",
      "__________________________________________________________________________________________________\n",
      "conv2d_45 (Conv2D)              (None, 14, 14, 192)  98304       block4_pool[0][0]                \n",
      "__________________________________________________________________________________________________\n",
      "conv2d_48 (Conv2D)              (None, 14, 14, 192)  215040      activation_47[0][0]              \n",
      "__________________________________________________________________________________________________\n",
      "batch_normalization_45 (BatchNo (None, 14, 14, 192)  576         conv2d_45[0][0]                  \n",
      "__________________________________________________________________________________________________\n",
      "batch_normalization_48 (BatchNo (None, 14, 14, 192)  576         conv2d_48[0][0]                  \n",
      "__________________________________________________________________________________________________\n",
      "activation_45 (Activation)      (None, 14, 14, 192)  0           batch_normalization_45[0][0]     \n",
      "__________________________________________________________________________________________________\n",
      "activation_48 (Activation)      (None, 14, 14, 192)  0           batch_normalization_48[0][0]     \n",
      "__________________________________________________________________________________________________\n",
      "concatenate_7 (Concatenate)     (None, 14, 14, 384)  0           activation_45[0][0]              \n",
      "                                                                 activation_48[0][0]              \n",
      "__________________________________________________________________________________________________\n",
      "conv2d_49 (Conv2D)              (None, 14, 14, 512)  196608      concatenate_7[0][0]              \n",
      "__________________________________________________________________________________________________\n",
      "batch_normalization_49 (BatchNo (None, 14, 14, 512)  1536        conv2d_49[0][0]                  \n",
      "__________________________________________________________________________________________________\n",
      "lambda_7 (Lambda)               (None, 14, 14, 512)  0           block4_pool[0][0]                \n",
      "                                                                 batch_normalization_49[0][0]     \n",
      "__________________________________________________________________________________________________\n",
      "activation_49 (Activation)      (None, 14, 14, 512)  0           lambda_7[0][0]                   \n",
      "__________________________________________________________________________________________________\n",
      "conv2d_51 (Conv2D)              (None, 14, 14, 128)  65536       activation_49[0][0]              \n",
      "__________________________________________________________________________________________________\n",
      "batch_normalization_51 (BatchNo (None, 14, 14, 128)  384         conv2d_51[0][0]                  \n",
      "__________________________________________________________________________________________________\n",
      "activation_51 (Activation)      (None, 14, 14, 128)  0           batch_normalization_51[0][0]     \n",
      "__________________________________________________________________________________________________\n",
      "conv2d_52 (Conv2D)              (None, 14, 14, 160)  143360      activation_51[0][0]              \n",
      "__________________________________________________________________________________________________\n",
      "batch_normalization_52 (BatchNo (None, 14, 14, 160)  480         conv2d_52[0][0]                  \n",
      "__________________________________________________________________________________________________\n",
      "activation_52 (Activation)      (None, 14, 14, 160)  0           batch_normalization_52[0][0]     \n",
      "__________________________________________________________________________________________________\n",
      "conv2d_50 (Conv2D)              (None, 14, 14, 192)  98304       activation_49[0][0]              \n",
      "__________________________________________________________________________________________________\n",
      "conv2d_53 (Conv2D)              (None, 14, 14, 192)  215040      activation_52[0][0]              \n",
      "__________________________________________________________________________________________________\n",
      "batch_normalization_50 (BatchNo (None, 14, 14, 192)  576         conv2d_50[0][0]                  \n",
      "__________________________________________________________________________________________________\n",
      "batch_normalization_53 (BatchNo (None, 14, 14, 192)  576         conv2d_53[0][0]                  \n",
      "__________________________________________________________________________________________________\n",
      "activation_50 (Activation)      (None, 14, 14, 192)  0           batch_normalization_50[0][0]     \n",
      "__________________________________________________________________________________________________\n",
      "activation_53 (Activation)      (None, 14, 14, 192)  0           batch_normalization_53[0][0]     \n",
      "__________________________________________________________________________________________________\n",
      "concatenate_8 (Concatenate)     (None, 14, 14, 384)  0           activation_50[0][0]              \n",
      "                                                                 activation_53[0][0]              \n",
      "__________________________________________________________________________________________________\n",
      "conv2d_54 (Conv2D)              (None, 14, 14, 512)  196608      concatenate_8[0][0]              \n",
      "__________________________________________________________________________________________________\n",
      "batch_normalization_54 (BatchNo (None, 14, 14, 512)  1536        conv2d_54[0][0]                  \n",
      "__________________________________________________________________________________________________\n",
      "lambda_8 (Lambda)               (None, 14, 14, 512)  0           activation_49[0][0]              \n",
      "                                                                 batch_normalization_54[0][0]     \n",
      "__________________________________________________________________________________________________\n",
      "activation_54 (Activation)      (None, 14, 14, 512)  0           lambda_8[0][0]                   \n",
      "__________________________________________________________________________________________________\n",
      "conv2d_56 (Conv2D)              (None, 14, 14, 128)  65536       activation_54[0][0]              \n",
      "__________________________________________________________________________________________________\n",
      "batch_normalization_56 (BatchNo (None, 14, 14, 128)  384         conv2d_56[0][0]                  \n",
      "__________________________________________________________________________________________________\n",
      "activation_56 (Activation)      (None, 14, 14, 128)  0           batch_normalization_56[0][0]     \n",
      "__________________________________________________________________________________________________\n",
      "conv2d_57 (Conv2D)              (None, 14, 14, 160)  143360      activation_56[0][0]              \n",
      "__________________________________________________________________________________________________\n",
      "batch_normalization_57 (BatchNo (None, 14, 14, 160)  480         conv2d_57[0][0]                  \n",
      "__________________________________________________________________________________________________\n",
      "activation_57 (Activation)      (None, 14, 14, 160)  0           batch_normalization_57[0][0]     \n",
      "__________________________________________________________________________________________________\n",
      "conv2d_55 (Conv2D)              (None, 14, 14, 192)  98304       activation_54[0][0]              \n",
      "__________________________________________________________________________________________________\n",
      "conv2d_58 (Conv2D)              (None, 14, 14, 192)  215040      activation_57[0][0]              \n",
      "__________________________________________________________________________________________________\n",
      "batch_normalization_55 (BatchNo (None, 14, 14, 192)  576         conv2d_55[0][0]                  \n",
      "__________________________________________________________________________________________________\n",
      "batch_normalization_58 (BatchNo (None, 14, 14, 192)  576         conv2d_58[0][0]                  \n",
      "__________________________________________________________________________________________________\n",
      "activation_55 (Activation)      (None, 14, 14, 192)  0           batch_normalization_55[0][0]     \n",
      "__________________________________________________________________________________________________\n",
      "activation_58 (Activation)      (None, 14, 14, 192)  0           batch_normalization_58[0][0]     \n",
      "__________________________________________________________________________________________________\n",
      "concatenate_9 (Concatenate)     (None, 14, 14, 384)  0           activation_55[0][0]              \n",
      "                                                                 activation_58[0][0]              \n",
      "__________________________________________________________________________________________________\n",
      "conv2d_59 (Conv2D)              (None, 14, 14, 512)  196608      concatenate_9[0][0]              \n",
      "__________________________________________________________________________________________________\n",
      "batch_normalization_59 (BatchNo (None, 14, 14, 512)  1536        conv2d_59[0][0]                  \n",
      "__________________________________________________________________________________________________\n",
      "lambda_9 (Lambda)               (None, 14, 14, 512)  0           activation_54[0][0]              \n",
      "                                                                 batch_normalization_59[0][0]     \n",
      "__________________________________________________________________________________________________\n",
      "activation_59 (Activation)      (None, 14, 14, 512)  0           lambda_9[0][0]                   \n",
      "__________________________________________________________________________________________________\n",
      "block5_pool (MaxPooling2D)      (None, 7, 7, 512)    0           activation_59[0][0]              \n",
      "__________________________________________________________________________________________________\n",
      "global_max_pooling2d (GlobalMax (None, 512)          0           block5_pool[0][0]                \n",
      "==================================================================================================\n",
      "Total params: 7,981,392\n",
      "Trainable params: 7,968,240\n",
      "Non-trainable params: 13,152\n",
      "__________________________________________________________________________________________________\n"
     ]
    }
   ],
   "source": [
    "model.summary()"
   ]
  }
 ],
 "metadata": {
  "colab": {
   "name": "Classic CNN-ResNet、InceptionV4、Inception-ResNet作業.ipynb",
   "provenance": []
  },
  "kernelspec": {
   "display_name": "Python 3",
   "language": "python",
   "name": "python3"
  },
  "language_info": {
   "codemirror_mode": {
    "name": "ipython",
    "version": 3
   },
   "file_extension": ".py",
   "mimetype": "text/x-python",
   "name": "python",
   "nbconvert_exporter": "python",
   "pygments_lexer": "ipython3",
   "version": "3.7.6"
  }
 },
 "nbformat": 4,
 "nbformat_minor": 1
}
