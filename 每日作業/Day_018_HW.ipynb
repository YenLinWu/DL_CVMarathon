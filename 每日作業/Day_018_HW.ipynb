{
 "cells": [
  {
   "cell_type": "markdown",
   "metadata": {},
   "source": [
    "## 『本次練習內容』\n",
    "#### 學習如何搭建Vgg16模型"
   ]
  },
  {
   "cell_type": "markdown",
   "metadata": {},
   "source": [
    "## 『本次練習目的』\n",
    "  #### 熟悉經典Vgg模型的搭建\n",
    "  #### 時間較為充裕的學員可以嘗試搭建Vgg19當作練習"
   ]
  },
  {
   "cell_type": "markdown",
   "metadata": {},
   "source": [
    "---"
   ]
  },
  {
   "cell_type": "markdown",
   "metadata": {},
   "source": [
    "# 請參考下面結構圖搭建Vgg16模型"
   ]
  },
  {
   "cell_type": "markdown",
   "metadata": {},
   "source": [
    "![VGG16](https://raw.githubusercontent.com/YenLinWu/DL_CVMarathon/master/IMAGE/Day_018/VGG16.png)"
   ]
  },
  {
   "cell_type": "code",
   "execution_count": 1,
   "metadata": {},
   "outputs": [],
   "source": [
    "import numpy as np\n",
    "import tensorflow as tf\n",
    "from tensorflow.keras import backend as K\n",
    "from tensorflow.keras.datasets import cifar10\n",
    "from tensorflow.keras.models import Sequential, Model\n",
    "from tensorflow.keras.layers import Input, Conv2D, MaxPooling2D, GlobalMaxPooling2D, GlobalAveragePooling2D, BatchNormalization, Flatten, Dense, Activation, Dropout"
   ]
  },
  {
   "cell_type": "code",
   "execution_count": 2,
   "metadata": {},
   "outputs": [],
   "source": [
    "def VGG16( include_top=True, input_tensor=None, input_shape=(224,224,1),\n",
    "           pooling='max', classes=1000 ):\n",
    " \n",
    "    img_input = Input( shape=input_shape )\n",
    "    \n",
    "    # Block 1\n",
    "    x = Conv2D( 64, (3,3), activation='relu', padding='same', name='block1_conv1' )(img_input)\n",
    "    x = Conv2D( 64, (3,3), activation='relu', padding='same', name='block1_conv2' )(x)\n",
    "    x = MaxPooling2D( (2,2), strides=(2,2), name='block1_pool' )(x)\n",
    "\n",
    "    # Block 2\n",
    "    x = Conv2D( 128, (3,3), activation='relu', padding='same', name='block2_conv1' )(x)\n",
    "    x = Conv2D( 128, (3,3), activation='relu', padding='same', name='block2_conv2' )(x)\n",
    "    x = MaxPooling2D( (2,2), strides=(2,2), name='block2_pool' )(x)\n",
    "\n",
    "    # Block 3\n",
    "    x = Conv2D( 256, (3,3), activation='relu', padding='same', name='block3_conv1' )(x)\n",
    "    x = Conv2D( 256, (3,3), activation='relu', padding='same', name='block3_conv2' )(x)\n",
    "    x = Conv2D( 256, (3,3), activation='relu', padding='same', name='block3_conv3' )(x)\n",
    "    x = MaxPooling2D( (2,2), strides=(2,2), name='block3_pool' )(x)\n",
    "\n",
    "    # Block 4\n",
    "    x = Conv2D( 512, (3,3), activation='relu', padding='same', name='block4_conv1' )(x)\n",
    "    x = Conv2D( 512, (3,3), activation='relu', padding='same', name='block4_conv2' )(x)\n",
    "    x = Conv2D( 512, (3,3), activation='relu', padding='same', name='block4_conv3' )(x)\n",
    "    x = MaxPooling2D( (2,2), strides=(2,2), name='block4_pool' )(x)\n",
    "  \n",
    "    # Block 5\n",
    "    x = Conv2D( 512, (3,3), activation='relu', padding='same', name='block5_conv1' )(x)\n",
    "    x = Conv2D( 512, (3,3), activation='relu', padding='same', name='block5_conv2' )(x)\n",
    "    x = Conv2D( 512, (3,3), activation='relu', padding='same', name='block5_conv3' )(x)\n",
    "    x = MaxPooling2D( (2,2), strides=(2,2), name='block5_pool' )(x)\n",
    "\n",
    "    if include_top:\n",
    "        # Classification block\n",
    "        x = Flatten( name='flatten' )(x)\n",
    "        x = Dense( 4096, activation='relu', name='fc1' )(x)\n",
    "        x = Dense( 4096, activation='relu', name='fc2' )(x)\n",
    "        x = Dense( classes, activation='softmax', name='predictions' )(x)\n",
    "    else:\n",
    "        if pooling == 'avg':\n",
    "            x = GlobalAveragePooling2D()(x)\n",
    "        elif pooling == 'max':\n",
    "            x = GlobalMaxPooling2D()(x)\n",
    "\n",
    "    inputs = img_input\n",
    "    \n",
    "    # Create model.\n",
    "    model = Model( inputs, x, name='VGG16' )\n",
    "   \n",
    "    return model"
   ]
  },
  {
   "cell_type": "code",
   "execution_count": 3,
   "metadata": {},
   "outputs": [],
   "source": [
    "model = VGG16( include_top=False )"
   ]
  },
  {
   "cell_type": "code",
   "execution_count": 4,
   "metadata": {},
   "outputs": [
    {
     "name": "stdout",
     "output_type": "stream",
     "text": [
      "Model: \"VGG16\"\n",
      "_________________________________________________________________\n",
      "Layer (type)                 Output Shape              Param #   \n",
      "=================================================================\n",
      "input_1 (InputLayer)         [(None, 224, 224, 1)]     0         \n",
      "_________________________________________________________________\n",
      "block1_conv1 (Conv2D)        (None, 224, 224, 64)      640       \n",
      "_________________________________________________________________\n",
      "block1_conv2 (Conv2D)        (None, 224, 224, 64)      36928     \n",
      "_________________________________________________________________\n",
      "block1_pool (MaxPooling2D)   (None, 112, 112, 64)      0         \n",
      "_________________________________________________________________\n",
      "block2_conv1 (Conv2D)        (None, 112, 112, 128)     73856     \n",
      "_________________________________________________________________\n",
      "block2_conv2 (Conv2D)        (None, 112, 112, 128)     147584    \n",
      "_________________________________________________________________\n",
      "block2_pool (MaxPooling2D)   (None, 56, 56, 128)       0         \n",
      "_________________________________________________________________\n",
      "block3_conv1 (Conv2D)        (None, 56, 56, 256)       295168    \n",
      "_________________________________________________________________\n",
      "block3_conv2 (Conv2D)        (None, 56, 56, 256)       590080    \n",
      "_________________________________________________________________\n",
      "block3_conv3 (Conv2D)        (None, 56, 56, 256)       590080    \n",
      "_________________________________________________________________\n",
      "block3_pool (MaxPooling2D)   (None, 28, 28, 256)       0         \n",
      "_________________________________________________________________\n",
      "block4_conv1 (Conv2D)        (None, 28, 28, 512)       1180160   \n",
      "_________________________________________________________________\n",
      "block4_conv2 (Conv2D)        (None, 28, 28, 512)       2359808   \n",
      "_________________________________________________________________\n",
      "block4_conv3 (Conv2D)        (None, 28, 28, 512)       2359808   \n",
      "_________________________________________________________________\n",
      "block4_pool (MaxPooling2D)   (None, 14, 14, 512)       0         \n",
      "_________________________________________________________________\n",
      "block5_conv1 (Conv2D)        (None, 14, 14, 512)       2359808   \n",
      "_________________________________________________________________\n",
      "block5_conv2 (Conv2D)        (None, 14, 14, 512)       2359808   \n",
      "_________________________________________________________________\n",
      "block5_conv3 (Conv2D)        (None, 14, 14, 512)       2359808   \n",
      "_________________________________________________________________\n",
      "block5_pool (MaxPooling2D)   (None, 7, 7, 512)         0         \n",
      "_________________________________________________________________\n",
      "global_max_pooling2d (Global (None, 512)               0         \n",
      "=================================================================\n",
      "Total params: 14,713,536\n",
      "Trainable params: 14,713,536\n",
      "Non-trainable params: 0\n",
      "_________________________________________________________________\n"
     ]
    }
   ],
   "source": [
    "model.summary()"
   ]
  }
 ],
 "metadata": {
  "kernelspec": {
   "display_name": "Python 3",
   "language": "python",
   "name": "python3"
  },
  "language_info": {
   "codemirror_mode": {
    "name": "ipython",
    "version": 3
   },
   "file_extension": ".py",
   "mimetype": "text/x-python",
   "name": "python",
   "nbconvert_exporter": "python",
   "pygments_lexer": "ipython3",
   "version": "3.7.6"
  }
 },
 "nbformat": 4,
 "nbformat_minor": 2
}
