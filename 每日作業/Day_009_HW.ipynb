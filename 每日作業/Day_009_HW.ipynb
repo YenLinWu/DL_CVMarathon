{
 "cells": [
  {
   "cell_type": "markdown",
   "metadata": {},
   "source": [
    "# 範例\n",
    "\n",
    "取得 SIFT 特徵\n",
    "\n",
    "- 轉成灰階圖片\n",
    "- 需要額外安裝 OpenCV 相關套件   \n",
    "   pip install --uesr opencv-contrib-python==3.4.2.16"
   ]
  },
  {
   "cell_type": "code",
   "execution_count": 1,
   "metadata": {},
   "outputs": [],
   "source": [
    "import cv2\n",
    "import numpy as np"
   ]
  },
  {
   "cell_type": "code",
   "execution_count": 2,
   "metadata": {},
   "outputs": [],
   "source": [
    "img_path = 'D:/Tom/GitHub/DL_CVMarathon/img/Day_001/lena.png'\n",
    "img_bgr = cv2.imread( img_path )\n",
    "\n",
    "# 轉灰階圖片\n",
    "img_gray = cv2.cvtColor( img_bgr, cv2.COLOR_BGR2GRAY )"
   ]
  },
  {
   "cell_type": "code",
   "execution_count": 3,
   "metadata": {},
   "outputs": [],
   "source": [
    "# 建立 SIFT 物件\n",
    "SIFT_Detector = cv2.xfeatures2d.SIFT_create( )"
   ]
  },
  {
   "cell_type": "code",
   "execution_count": 4,
   "metadata": {},
   "outputs": [],
   "source": [
    "# 取得 SIFT 關鍵點位置\n",
    "Keypoints = SIFT_Detector.detect( img_gray, None )"
   ]
  },
  {
   "cell_type": "code",
   "execution_count": 5,
   "metadata": {},
   "outputs": [],
   "source": [
    "#　畫圖 + 顯示圖片\n",
    "img_show = cv2.drawKeypoints( img_gray, Keypoints, img_bgr )\n",
    "while True:\n",
    "    cv2.imshow( 'SIFT', img_show )\n",
    "    cv2.imwrite( 'SIFT.jpg', img_show )\n",
    "    k = cv2.waitKey(0)\n",
    "    if k == 27:\n",
    "        cv2.destroyAllWindows()\n",
    "        break"
   ]
  }
 ],
 "metadata": {
  "kernelspec": {
   "display_name": "Python 3",
   "language": "python",
   "name": "python3"
  },
  "language_info": {
   "codemirror_mode": {
    "name": "ipython",
    "version": 3
   },
   "file_extension": ".py",
   "mimetype": "text/x-python",
   "name": "python",
   "nbconvert_exporter": "python",
   "pygments_lexer": "ipython3",
   "version": "3.7.6"
  }
 },
 "nbformat": 4,
 "nbformat_minor": 2
}
