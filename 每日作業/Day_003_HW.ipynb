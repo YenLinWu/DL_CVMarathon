{
 "cells": [
  {
   "cell_type": "markdown",
   "metadata": {},
   "source": [
    "# 作業\n",
    "\n",
    "實作各種不一樣的方式來調整飽和 / 對比 / 明亮\n",
    "\n",
    "1. 改變 color space 來調整飽和度\n",
    "2. 實作直方圖均衡\n",
    "3. alpha/ beta 調整對比 / 明亮"
   ]
  },
  {
   "cell_type": "code",
   "execution_count": 1,
   "metadata": {},
   "outputs": [],
   "source": [
    "import cv2\n",
    "import numpy as np"
   ]
  },
  {
   "cell_type": "code",
   "execution_count": 2,
   "metadata": {},
   "outputs": [],
   "source": [
    "img_path = 'D:/Tom/GitHub/DL_CVMarathon/img/Day_001/lena.png'\n",
    "\n",
    "# 以彩色圖片的方式載入\n",
    "img_bgr = cv2.imread( img_path, cv2.IMREAD_COLOR )"
   ]
  },
  {
   "cell_type": "markdown",
   "metadata": {},
   "source": [
    "## 改變飽和度\n",
    "\n",
    "- 轉換成 HSV color space, 改變 s channel 的值"
   ]
  },
  {
   "cell_type": "code",
   "execution_count": 3,
   "metadata": {},
   "outputs": [],
   "source": [
    "# 為了要改變飽和度，我們先把 color space 轉成 HSV 格式\n",
    "img_hsv = cv2.cvtColor( img_bgr, cv2.COLOR_BGR2HSV )\n",
    "\n",
    "# 設定調降或增加飽和度的比例( 以兩成為例 )\n",
    "change_percentage = 0.2"
   ]
  },
  {
   "cell_type": "code",
   "execution_count": 4,
   "metadata": {},
   "outputs": [],
   "source": [
    "''' 在 HSV color space 減少飽和度 '''\n",
    "# 針對飽和度的值做改變，超過界線 0~1 的都會 bound\n",
    "\n",
    "img_hsv_down = img_hsv.astype( 'float32' )\n",
    "img_hsv_down[ ..., 1 ] = img_hsv_down[ ..., 1 ] / 255 - change_percentage\n",
    "img_hsv_down[ img_hsv_down[..., 1] < 0 ] = 0\n",
    "img_hsv_down[ ..., 1 ] = img_hsv_down[ ..., 1 ] * 255\n",
    "img_hsv_down = img_hsv_down.astype( 'uint8' )\n",
    "img_bgr_down = cv2.cvtColor( img_hsv_down, cv2.COLOR_HSV2BGR )  # 轉換 Color Space 回 BGR"
   ]
  },
  {
   "cell_type": "code",
   "execution_count": 5,
   "metadata": {},
   "outputs": [],
   "source": [
    "''' 在 HSV color space 增加飽和度 '''\n",
    "# 針對飽和度的值做改變，超過界線 0~1 的都會 bound\n",
    "\n",
    "img_hsv_up = img_hsv.astype( 'float32' )\n",
    "img_hsv_up[ ..., 1 ] = img_hsv_up[ ..., 1 ] / 255 + change_percentage\n",
    "img_hsv_up[ img_hsv_up[..., 1] > 1 ] = 1\n",
    "img_hsv_up[ ..., 1 ] = img_hsv_up[ ..., 1 ] * 255\n",
    "img_hsv_up = img_hsv_up.astype( 'uint8' )\n",
    "img_bgr_up = cv2.cvtColor( img_hsv_up, cv2.COLOR_HSV2BGR )  # 轉換 Color Space 回 BGR"
   ]
  },
  {
   "cell_type": "code",
   "execution_count": 6,
   "metadata": {},
   "outputs": [],
   "source": [
    "# 組合圖片 + 顯示圖片\n",
    "img_hsv_change = np.hstack( ( img_bgr, img_bgr_down, img_bgr_up ) )\n",
    "\n",
    "while True:\n",
    "    cv2.imshow( 'Change Saturation', img_hsv_change )\n",
    "    cv2.imwrite( 'Change_Saturation_by_Color_Space.jpg', img_hsv_change )\n",
    "    \n",
    "    k = cv2.waitKey(0)\n",
    "    if k == 27:\n",
    "        cv2.destroyAllWindows()\n",
    "        break"
   ]
  },
  {
   "cell_type": "markdown",
   "metadata": {},
   "source": [
    "## 直方圖均衡\n",
    "\n",
    "* case 1: 把彩圖拆開對每個 channel 個別做直方圖均衡再組合起來\n",
    "* case 2: 轉換 color space 到 HSV 之後對其中一個 channel 做直方圖均衡"
   ]
  },
  {
   "cell_type": "code",
   "execution_count": 7,
   "metadata": {},
   "outputs": [],
   "source": [
    "''' Case 1 '''\n",
    "# 每個 channel 個別做直方圖均衡\n",
    "equalHist_by_channel = [ img_bgr[ ..., 0 ], img_bgr[ ..., 1 ], img_bgr[ ..., 2 ] ]\n",
    "equalHist_by_channel = [ cv2.equalizeHist(i) for i in equalHist_by_channel ]\n",
    "\n",
    "# 組合經過直方圖均衡的每個 channel\n",
    "img_bgr_equal = np.stack( equalHist_by_channel, axis = -1 )"
   ]
  },
  {
   "cell_type": "code",
   "execution_count": 8,
   "metadata": {},
   "outputs": [],
   "source": [
    "''' Case 2 '''\n",
    "# 轉換 Color Space 後只對其中一個 channel 做直方圖均衡\n",
    "img_hsv = cv2.cvtColor( img_bgr, cv2.COLOR_BGR2HSV ) \n",
    "img_hsv[ ..., -1 ] = cv2.equalizeHist( img_hsv[ ..., -1 ] )\n",
    "img_hsv_equal = cv2.cvtColor( img_hsv, cv2.COLOR_HSV2BGR )"
   ]
  },
  {
   "cell_type": "code",
   "execution_count": 9,
   "metadata": {},
   "outputs": [],
   "source": [
    "# 組合圖片 + 顯示圖片\n",
    "img_bgr_equalHist = np.hstack((img_bgr, img_bgr_equal, img_hsv_equal))\n",
    "while True:\n",
    "    # 比較 (原圖, BGR color space 對每個 channel 做直方圖均衡, HSV color space 對明度做直方圖均衡)\n",
    "    cv2.imshow( 'bgr equal histogram', img_bgr_equalHist)\n",
    "    cv2.imwrite( 'Change_Value.jpg', img_bgr_equalHist )\n",
    "    \n",
    "    k = cv2.waitKey(0)\n",
    "    if k == 27:\n",
    "        cv2.destroyAllWindows()\n",
    "        break"
   ]
  },
  {
   "cell_type": "markdown",
   "metadata": {},
   "source": [
    "## 調整對比 / 明亮"
   ]
  },
  {
   "cell_type": "code",
   "execution_count": 10,
   "metadata": {},
   "outputs": [],
   "source": [
    "# alpha: 控制對比度 (1.0~3.0)\n",
    "# beta: 控制明亮度 (0~255)\n",
    "add_contrast = cv2.convertScaleAbs( img_bgr, alpha = 2.0, beta = 0 )\n",
    "add_lighness = cv2.convertScaleAbs( img_bgr, alpha = 0.5, beta = 150 )\n",
    "\n",
    "# 組合圖片 + 顯示圖片\n",
    "img_contrast_light = np.hstack((img_bgr, add_contrast, add_lighness))\n",
    "while True:\n",
    "    # 比較不同程度的對比 / 明亮\n",
    "    cv2.imshow( 'Adjust Contrast and Brighness', img_contrast_light )\n",
    "    cv2.imwrite( 'Adjust_Contrast_and_Brighness.jpg', img_contrast_light )\n",
    "    \n",
    "    k = cv2.waitKey(0)\n",
    "    if k == 27:\n",
    "        cv2.destroyAllWindows()\n",
    "        break"
   ]
  }
 ],
 "metadata": {
  "kernelspec": {
   "display_name": "Python 3",
   "language": "python",
   "name": "python3"
  },
  "language_info": {
   "codemirror_mode": {
    "name": "ipython",
    "version": 3
   },
   "file_extension": ".py",
   "mimetype": "text/x-python",
   "name": "python",
   "nbconvert_exporter": "python",
   "pygments_lexer": "ipython3",
   "version": "3.7.6"
  }
 },
 "nbformat": 4,
 "nbformat_minor": 2
}
