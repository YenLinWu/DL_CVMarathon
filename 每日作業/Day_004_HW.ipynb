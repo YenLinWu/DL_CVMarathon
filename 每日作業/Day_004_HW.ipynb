{
 "cells": [
  {
   "cell_type": "markdown",
   "metadata": {},
   "source": [
    "# 作業\n",
    "\n",
    "實作本篇提到的三大概念\n",
    "\n",
    "- 翻轉：實作上下左右的翻轉\n",
    "- 縮放：比較鄰近差值與雙立方插值 (或雙線性插值) 的圖片品質\n",
    "- 平移：建立 Translation Transformation Matrix 來做平移"
   ]
  },
  {
   "cell_type": "code",
   "execution_count": 1,
   "metadata": {},
   "outputs": [],
   "source": [
    "import cv2\n",
    "import time\n",
    "import numpy as np"
   ]
  },
  {
   "cell_type": "code",
   "execution_count": 2,
   "metadata": {},
   "outputs": [
    {
     "name": "stdout",
     "output_type": "stream",
     "text": [
      "Shape of image: (512, 512, 3)\n"
     ]
    }
   ],
   "source": [
    "img_path = 'D:/Tom/GitHub/DL_CVMarathon/img/Day_001/lena.png'\n",
    "img_bgr = cv2.imread( img_path )\n",
    "print( 'Shape of image: {}'.format( img_bgr.shape ) )"
   ]
  },
  {
   "cell_type": "markdown",
   "metadata": {},
   "source": [
    "## 上下左右翻轉圖片"
   ]
  },
  {
   "cell_type": "code",
   "execution_count": 3,
   "metadata": {},
   "outputs": [],
   "source": [
    "# 水平翻轉 (horizontal)\n",
    "img_hflip = img_hflip = img_bgr[ :, ::-1, : ]\n",
    "\n",
    "# 垂直翻轉 (vertical)\n",
    "img_vflip = img_vflip = img_bgr[ ::-1, :, : ]\n",
    "\n",
    "# 水平 + 垂直翻轉\n",
    "img_hvflip = img_bgr[ ::-1, ::-1, : ]\n",
    "\n",
    "# 組合 + 顯示圖片\n",
    "hflip = np.hstack( ( img_bgr, img_hflip ) )\n",
    "vflip = np.hstack( ( img_vflip, img_hvflip) )\n",
    "img_flip = np.vstack( ( hflip, vflip ) )\n",
    "while True:\n",
    "    cv2.imshow( 'Flip Image', img_flip )\n",
    "    cv2.imwrite( 'Flip_Image.jpg', img_flip )\n",
    "    \n",
    "    k = cv2.waitKey(0)\n",
    "    if k == 27:\n",
    "        cv2.destroyAllWindows()\n",
    "        break"
   ]
  },
  {
   "cell_type": "markdown",
   "metadata": {},
   "source": [
    "## 縮放圖片\n",
    "\n",
    "### 放大\n",
    "\n",
    "我們先透過縮小圖片去壓縮原有圖片保有的資訊，再放大比較不同方法之間的速度與圖片品質"
   ]
  },
  {
   "cell_type": "code",
   "execution_count": 4,
   "metadata": {},
   "outputs": [
    {
     "name": "stdout",
     "output_type": "stream",
     "text": [
      "INTER_NEAREST zoom cost 0.0019960403442382812\n",
      "INTER_CUBIC zoom cost 0.005574703216552734\n"
     ]
    }
   ],
   "source": [
    "# 將圖片縮小成原本的 20%\n",
    "img_test = cv2.resize( img_bgr, None, fx=0.2, fy=0.2 )\n",
    "\n",
    "# 將圖片放大為\"小圖片\"的 8 倍大 = 原圖的 1.6 倍大\n",
    "fx, fy = 8, 8\n",
    "\n",
    "# 鄰近差值 scale + 計算花費時間\n",
    "start_time = time.time()\n",
    "img_area_scale = cv2.resize( img_test, None, fx=fx, fy=fy, interpolation=cv2.INTER_NEAREST )\n",
    "print( 'INTER_NEAREST zoom cost {}'.format(time.time() - start_time) )\n",
    "\n",
    "# 雙立方差補 scale + 計算花費時間\n",
    "start_time = time.time()\n",
    "img_cubic_scale = cv2.resize( img_test, None, fx=fx, fy=fy, interpolation=cv2.INTER_CUBIC )\n",
    "print( 'INTER_CUBIC zoom cost {}'.format(time.time() - start_time) )\n",
    "\n",
    "# 組合 + 顯示圖片\n",
    "img_zoom = np.hstack((img_area_scale, img_cubic_scale))\n",
    "while True:\n",
    "    cv2.imshow( 'Zoom Image', img_zoom )\n",
    "    cv2.imwrite( 'Zoom_Image.jpg', img_zoom )\n",
    "        \n",
    "    k = cv2.waitKey(0)\n",
    "    if k == 27:\n",
    "        cv2.destroyAllWindows()\n",
    "        break"
   ]
  },
  {
   "cell_type": "markdown",
   "metadata": {},
   "source": [
    "## 平移幾何轉換"
   ]
  },
  {
   "cell_type": "code",
   "execution_count": 5,
   "metadata": {},
   "outputs": [],
   "source": [
    "# 設定 translation transformation matrix\n",
    "# x 平移 50 pixel; y 平移 100 pixel\n",
    "M = np.array( [[1, 0, 50],[0, 1, 100]], dtype=np.float32 )\n",
    "shift_img = cv2.warpAffine( img_bgr, M, (img_bgr.shape[1], img_bgr.shape[0]) )\n",
    "\n",
    "# 組合 + 顯示圖片\n",
    "img_shift = np.hstack((img_bgr, shift_img))\n",
    "while True:\n",
    "    cv2.imshow( 'Shift Image', img_shift )\n",
    "    cv2.imwrite( 'Shift_Image.jpg', img_shift )\n",
    "    \n",
    "    k = cv2.waitKey(0)\n",
    "    if k == 27:\n",
    "        cv2.destroyAllWindows()\n",
    "        break"
   ]
  }
 ],
 "metadata": {
  "kernelspec": {
   "display_name": "Python 3",
   "language": "python",
   "name": "python3"
  },
  "language_info": {
   "codemirror_mode": {
    "name": "ipython",
    "version": 3
   },
   "file_extension": ".py",
   "mimetype": "text/x-python",
   "name": "python",
   "nbconvert_exporter": "python",
   "pygments_lexer": "ipython3",
   "version": "3.7.6"
  }
 },
 "nbformat": 4,
 "nbformat_minor": 2
}
