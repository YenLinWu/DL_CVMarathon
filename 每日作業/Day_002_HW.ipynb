{
 "cells": [
  {
   "cell_type": "markdown",
   "metadata": {},
   "source": [
    "# 作業\n",
    "\n",
    "使用 [Lena](http://optipng.sourceforge.net/pngtech/img/lena.png)\n",
    "\n",
    "- 改變圖片的 color space (`HLS`, `LAB`) 並呈現"
   ]
  },
  {
   "cell_type": "code",
   "execution_count": 1,
   "metadata": {},
   "outputs": [],
   "source": [
    "import cv2"
   ]
  },
  {
   "cell_type": "code",
   "execution_count": 2,
   "metadata": {},
   "outputs": [],
   "source": [
    "img_path = 'D:/Tom/GitHub/DL_CVMarathon/img/Day_001/lena.png'\n",
    "\n",
    "# 以彩色圖片的方式載入\n",
    "img_bgr = cv2.imread(img_path, cv2.IMREAD_COLOR)\n",
    "\n",
    "# 改變不同的 color space\n",
    "img_hsv = cv2.cvtColor( img_bgr, cv2.COLOR_BGR2HSV )\n",
    "img_hsl = cv2.cvtColor( img_bgr, cv2.COLOR_BGR2HLS )\n",
    "img_lab = cv2.cvtColor( img_bgr, cv2.COLOR_BGR2LAB )"
   ]
  },
  {
   "cell_type": "markdown",
   "metadata": {},
   "source": [
    "## HSV color space"
   ]
  },
  {
   "cell_type": "code",
   "execution_count": 3,
   "metadata": {},
   "outputs": [],
   "source": [
    "# 顯示圖片\n",
    "cv2.imshow( 'HSV Lena', img_hsv )\n",
    "    \n",
    "cv2.waitKey( 5000 )  # 圖片的顯示時間(毫秒)；若設為 0 時，則直到按下 ESC 鍵才會自動關閉視窗\n",
    "cv2.destroyAllWindows()  "
   ]
  },
  {
   "cell_type": "code",
   "execution_count": 4,
   "metadata": {},
   "outputs": [
    {
     "data": {
      "text/plain": [
       "True"
      ]
     },
     "execution_count": 4,
     "metadata": {},
     "output_type": "execute_result"
    }
   ],
   "source": [
    "# 寫入圖檔\n",
    "cv2.imwrite( 'HSV_Lena.jpg', img_hsv )"
   ]
  },
  {
   "cell_type": "markdown",
   "metadata": {},
   "source": [
    "## HSL color space"
   ]
  },
  {
   "cell_type": "code",
   "execution_count": 5,
   "metadata": {},
   "outputs": [],
   "source": [
    "# 顯示圖片\n",
    "cv2.imshow( 'HSL Lena', img_hsl )\n",
    "    \n",
    "cv2.waitKey( 5000 )  # 圖片的顯示時間(毫秒)；若設為 0 時，則直到按下 ESC 鍵才會自動關閉視窗\n",
    "cv2.destroyAllWindows()  "
   ]
  },
  {
   "cell_type": "code",
   "execution_count": 6,
   "metadata": {},
   "outputs": [
    {
     "data": {
      "text/plain": [
       "True"
      ]
     },
     "execution_count": 6,
     "metadata": {},
     "output_type": "execute_result"
    }
   ],
   "source": [
    "# 寫入圖檔\n",
    "cv2.imwrite( 'HSL_Lena.jpg', img_hsl )"
   ]
  },
  {
   "cell_type": "markdown",
   "metadata": {},
   "source": [
    "## LAB color space"
   ]
  },
  {
   "cell_type": "code",
   "execution_count": 7,
   "metadata": {},
   "outputs": [],
   "source": [
    "# 顯示圖片\n",
    "cv2.imshow( 'LAB Lena', img_lab )\n",
    "    \n",
    "cv2.waitKey( 5000 )  # 圖片的顯示時間(毫秒)；若設為 0 時，則直到按下 ESC 鍵才會自動關閉視窗\n",
    "cv2.destroyAllWindows()  "
   ]
  },
  {
   "cell_type": "code",
   "execution_count": 8,
   "metadata": {},
   "outputs": [
    {
     "data": {
      "text/plain": [
       "True"
      ]
     },
     "execution_count": 8,
     "metadata": {},
     "output_type": "execute_result"
    }
   ],
   "source": [
    "# 寫入圖檔\n",
    "cv2.imwrite( 'LAB_Lena.jpg', img_lab )"
   ]
  }
 ],
 "metadata": {
  "kernelspec": {
   "display_name": "Python 3",
   "language": "python",
   "name": "python3"
  },
  "language_info": {
   "codemirror_mode": {
    "name": "ipython",
    "version": 3
   },
   "file_extension": ".py",
   "mimetype": "text/x-python",
   "name": "python",
   "nbconvert_exporter": "python",
   "pygments_lexer": "ipython3",
   "version": "3.7.6"
  }
 },
 "nbformat": 4,
 "nbformat_minor": 2
}
