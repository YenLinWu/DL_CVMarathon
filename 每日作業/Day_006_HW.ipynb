{
 "cells": [
  {
   "cell_type": "markdown",
   "metadata": {},
   "source": [
    "# 作業\n",
    "\n",
    "練習以旋轉變換 + 平移變換來實現仿射變換\n",
    "> 旋轉 45 度 + 縮放 0.5 倍 + 平移 (x+100, y-50)"
   ]
  },
  {
   "cell_type": "code",
   "execution_count": 1,
   "metadata": {},
   "outputs": [],
   "source": [
    "import cv2\n",
    "import time\n",
    "import numpy as np"
   ]
  },
  {
   "cell_type": "code",
   "execution_count": 2,
   "metadata": {},
   "outputs": [],
   "source": [
    "img_path = 'D:/Tom/GitHub/DL_CVMarathon/img/Day_001/lena.png'\n",
    "img_bgr = cv2.imread( img_path )"
   ]
  },
  {
   "cell_type": "markdown",
   "metadata": {},
   "source": [
    "## Affine Transformation - Case 2: any three point"
   ]
  },
  {
   "cell_type": "code",
   "execution_count": 3,
   "metadata": {},
   "outputs": [],
   "source": [
    "# 給定兩兩一對，共三對的點\n",
    "# 這邊我們先用手動設定三對點，一般情況下會有點的資料或是透過介面手動標記三個點\n",
    "rows, cols = img_bgr.shape[:2]\n",
    "pt1 = np.array([[50,50], [300,100], [200,300]], dtype=np.float32)\n",
    "pt2 = np.array([[80,80], [330,150], [300,300]], dtype=np.float32)\n",
    "\n",
    "# 取得 affine 矩陣並做 affine 操作\n",
    "M_affine = cv2.getAffineTransform( pt1, pt2 )\n",
    "img_affine = cv2.warpAffine( img_bgr, M_affine, (cols, rows) )\n",
    "\n",
    "# 在圖片上標記點\n",
    "img_bgr_copy = img_bgr.copy()\n",
    "for idx, pts in enumerate(pt1):\n",
    "    pts = tuple(map(int, pts))\n",
    "    cv2.circle(img_bgr_copy, pts, 3, (0,0,255), -1)\n",
    "    cv2.putText(img_bgr_copy, str(idx), (pts[0]+5, pts[1]+5), cv2.FONT_HERSHEY_COMPLEX, 1, (255,255,255), 1)\n",
    "\n",
    "for idx, pts in enumerate(pt2):\n",
    "    pts = tuple(map(int, pts))\n",
    "    cv2.circle(img_affine, pts, 3, (0,0,255), -1)\n",
    "    cv2.putText(img_affine, str(idx), (pts[0]+5, pts[1]+5), cv2.FONT_HERSHEY_COMPLEX, 1, (255,255,255), 1)\n",
    "\n",
    "# 組合 + 顯示圖片\n",
    "img_show_affine = np.hstack((img_bgr_copy, img_affine))\n",
    "while True:\n",
    "    cv2.imshow( 'Affine Transformation', img_show_affine )\n",
    "    cv2.imwrite( 'Affine_Transformation.jpg', img_show_affine )\n",
    "    \n",
    "    k = cv2.waitKey(0)\n",
    "    if k == 27:\n",
    "        cv2.destroyAllWindows()\n",
    "        break"
   ]
  }
 ],
 "metadata": {
  "kernelspec": {
   "display_name": "Python 3",
   "language": "python",
   "name": "python3"
  },
  "language_info": {
   "codemirror_mode": {
    "name": "ipython",
    "version": 3
   },
   "file_extension": ".py",
   "mimetype": "text/x-python",
   "name": "python",
   "nbconvert_exporter": "python",
   "pygments_lexer": "ipython3",
   "version": "3.7.6"
  }
 },
 "nbformat": 4,
 "nbformat_minor": 2
}
