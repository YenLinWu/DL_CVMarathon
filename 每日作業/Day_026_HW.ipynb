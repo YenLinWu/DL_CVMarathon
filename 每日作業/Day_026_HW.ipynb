{
 "cells": [
  {
   "cell_type": "markdown",
   "metadata": {},
   "source": [
    "## 『本次練習內容』\n",
    "#### 學習搭建RPN層"
   ]
  },
  {
   "cell_type": "markdown",
   "metadata": {},
   "source": [
    "## 『本次練習目的』\n",
    "  #### 了解 Object Detection 演算法中是如何做到分類又回歸 BBOX 座標"
   ]
  },
  {
   "cell_type": "code",
   "execution_count": 1,
   "metadata": {},
   "outputs": [],
   "source": [
    "from tensorflow.keras.layers import Input, Dense, Dropout, Conv2D, MaxPooling2D, GlobalMaxPooling2D, GlobalAveragePooling2D, TimeDistributed"
   ]
  },
  {
   "cell_type": "code",
   "execution_count": 2,
   "metadata": {},
   "outputs": [],
   "source": [
    "input_shape_img = ( 1024, 1024, 3 )\n",
    "img_input = Input( shape=input_shape_img )"
   ]
  },
  {
   "cell_type": "markdown",
   "metadata": {},
   "source": [
    "### Step 1 : CNN 提取特徵"
   ]
  },
  {
   "cell_type": "code",
   "execution_count": 3,
   "metadata": {},
   "outputs": [],
   "source": [
    "def CNN_Base( img_input ):\n",
    "    \n",
    "    # Block 1\n",
    "    x = Conv2D( 64, (3,3), activation='relu', padding='same', name='block1_conv1' )(img_input)\n",
    "    x = Conv2D( 64, (3,3), activation='relu', padding='same', name='block1_conv2' )(x)\n",
    "    # 縮水1/2 1024x1024 -> 512x512\n",
    "    x = MaxPooling2D( (2,2), strides=(2,2), name='block1_pool' )(x)\n",
    "\n",
    "    # Block 2\n",
    "    x = Conv2D( 128, (3,3), activation='relu', padding='same', name='block2_conv1' )(x)\n",
    "    x = Conv2D( 128, (3,3), activation='relu', padding='same', name='block2_conv2' )(x)\n",
    "    # 縮水1/2 512x512 -> 256x256\n",
    "    x = MaxPooling2D( (2,2), strides=(2,2), name='block2_pool' )(x)\n",
    "\n",
    "    # Block 3\n",
    "    x = Conv2D( 256, (3,3), activation='relu', padding='same', name='block3_conv1' )(x)\n",
    "    x = Conv2D( 256, (3,3), activation='relu', padding='same', name='block3_conv2' )(x)\n",
    "    x = Conv2D( 256, (3,3), activation='relu', padding='same', name='block3_conv3' )(x)\n",
    "    # 縮水1/2 256x256 -> 128x128\n",
    "    x = MaxPooling2D( (2,2), strides=(2,2), name='block3_pool' )(x)\n",
    "\n",
    "    # Block 4\n",
    "    x = Conv2D( 512, (3,3), activation='relu', padding='same', name='block4_conv1' )(x)\n",
    "    x = Conv2D( 512, (3,3), activation='relu', padding='same', name='block4_conv2' )(x)\n",
    "    x = Conv2D( 512, (3,3), activation='relu', padding='same', name='block4_conv3' )(x)\n",
    "    # 縮水1/2 128x128 -> 64x64\n",
    "    x = MaxPooling2D( (2,2), strides=(2,2), name='block4_pool' )(x)\n",
    "\n",
    "    # Block 5\n",
    "    x = Conv2D( 512, (3,3), activation='relu', padding='same', name='block5_conv1' )(x)\n",
    "    x = Conv2D( 512, (3,3), activation='relu', padding='same', name='block5_conv2' )(x)\n",
    "    x = Conv2D( 512, (3,3), activation='relu', padding='same', name='block5_conv3' )(x)\n",
    "\n",
    "    # Feature Map = 64x64x512\n",
    "    return x"
   ]
  },
  {
   "cell_type": "markdown",
   "metadata": {},
   "source": [
    "### Step 2 : RPN( Region Proposal Network )"
   ]
  },
  {
   "cell_type": "code",
   "execution_count": 4,
   "metadata": {},
   "outputs": [],
   "source": [
    "def RPN( Base_Layers, num_anchors ):\n",
    "\n",
    "    x = Conv2D( 512, (3,3), padding='same', activation='relu', kernel_initializer='normal', name='rpn_conv1' )(Base_Layers)\n",
    "\n",
    "    # RPN 分類和迴歸\n",
    "    # 分兩類: 前景或背景\n",
    "    # 預測 BBox 的 [x,y,w,h]  \n",
    "    x_class = Conv2D( num_anchors*2, (1,1), activation='softmax', name='rpn_out_class' )(x)\n",
    "    x_reg = Conv2D( num_anchors*4, (1,1), activation='linear', name='rpn_out_regress' )(x)\n",
    "\n",
    "    return x_class, x_reg, Base_Layers"
   ]
  },
  {
   "cell_type": "code",
   "execution_count": 5,
   "metadata": {},
   "outputs": [],
   "source": [
    "Base_Layers = CNN_Base(img_input)"
   ]
  },
  {
   "cell_type": "code",
   "execution_count": 6,
   "metadata": {},
   "outputs": [],
   "source": [
    "x_class, x_reg, Base_Layers = RPN( Base_Layers, 9 )"
   ]
  },
  {
   "cell_type": "code",
   "execution_count": 7,
   "metadata": {},
   "outputs": [
    {
     "name": "stdout",
     "output_type": "stream",
     "text": [
      "CNN Output： Tensor(\"block5_conv3/Identity:0\", shape=(None, 64, 64, 512), dtype=float32)\n",
      "RPN 分類支線： Tensor(\"rpn_out_class/Identity:0\", shape=(None, 64, 64, 18), dtype=float32)\n",
      "RPN 迴歸支線： Tensor(\"rpn_out_regress/Identity:0\", shape=(None, 64, 64, 36), dtype=float32)\n"
     ]
    }
   ],
   "source": [
    "print( 'CNN Output：', Base_Layers )\n",
    "print( 'RPN 分類支線：', x_class )         # 確認深度是否為 18 ?\n",
    "print( 'RPN 迴歸支線：', x_reg )           # 確認深度是否為 36 ?"
   ]
  }
 ],
 "metadata": {
  "kernelspec": {
   "display_name": "Python 3",
   "language": "python",
   "name": "python3"
  },
  "language_info": {
   "codemirror_mode": {
    "name": "ipython",
    "version": 3
   },
   "file_extension": ".py",
   "mimetype": "text/x-python",
   "name": "python",
   "nbconvert_exporter": "python",
   "pygments_lexer": "ipython3",
   "version": "3.7.6"
  }
 },
 "nbformat": 4,
 "nbformat_minor": 2
}
