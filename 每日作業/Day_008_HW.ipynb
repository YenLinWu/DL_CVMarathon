{
 "cells": [
  {
   "cell_type": "markdown",
   "metadata": {},
   "source": [
    "# 作業\n",
    "\n",
    "實作邊緣檢測\n",
    "\n",
    "- 透過 Sobel Filter 實作邊緣檢測"
   ]
  },
  {
   "cell_type": "code",
   "execution_count": 1,
   "metadata": {},
   "outputs": [],
   "source": [
    "import cv2\n",
    "import numpy as np"
   ]
  },
  {
   "cell_type": "code",
   "execution_count": 2,
   "metadata": {},
   "outputs": [],
   "source": [
    "img_path = 'D:/Tom/GitHub/DL_CVMarathon/img/Day_001/lena.png'\n",
    "img_bgr = cv2.imread( img_path )"
   ]
  },
  {
   "cell_type": "markdown",
   "metadata": {},
   "source": [
    "## 邊緣檢測"
   ]
  },
  {
   "cell_type": "markdown",
   "metadata": {},
   "source": [
    "### 比較 Sobel 如果在 uint8 的情況下做會 overflow 的狀況"
   ]
  },
  {
   "cell_type": "code",
   "execution_count": 3,
   "metadata": {},
   "outputs": [],
   "source": [
    "# 轉為灰階圖片\n",
    "img_grey = cv2.cvtColor( img_bgr, cv2.COLOR_BGR2GRAY )\n",
    "\n",
    "# 1\n",
    "# 對 x 方向以包含負數的資料格式 (cv2.CV_16S) 進行 Sobel 邊緣檢測\n",
    "img_Sobel_x = cv2.Sobel( img_grey, cv2.CV_16S, dx=1, dy=0, ksize=3 )\n",
    "# 對 x 方向依照比例縮放到所有數值都是非負整數, i.e., 轉回 uint8 類型\n",
    "img_Sobel_x = cv2.convertScaleAbs( img_Sobel_x )\n",
    "\n",
    "# 2\n",
    "# 對 x 方向直接以非負整數的資料格式 (uint8) 進行 Sobel 邊緣檢測\n",
    "img_Sobel_x_uint8 = cv2.Sobel( img_grey, -1 , dx=1, dy=0, ksize=3 )\n",
    "\n",
    "#　組合 + 顯示圖片\n",
    "img_show = np.hstack((img_grey, img_Sobel_x, img_Sobel_x_uint8))\n",
    "while True:\n",
    "    # 比較 Sobel 邊緣檢測的過程中針對負數操作的不同產生的差異\n",
    "    cv2.imshow( 'Edge Detection', img_show )\n",
    "    cv2.imwrite( 'Edge_Detection.jpg', img_show )\n",
    "    \n",
    "    k = cv2.waitKey(0)\n",
    "    if k == 27:\n",
    "        cv2.destroyAllWindows()\n",
    "        break"
   ]
  },
  {
   "cell_type": "markdown",
   "metadata": {},
   "source": [
    "### 比較一次與兩次計算偏微分的結果"
   ]
  },
  {
   "cell_type": "code",
   "execution_count": 4,
   "metadata": {},
   "outputs": [],
   "source": [
    "img_grey = cv2.cvtColor( img_bgr, cv2.COLOR_BGR2GRAY )\n",
    "\n",
    "# 求一次導數取得邊緣檢測結果\n",
    "img_Sobel_x = cv2.Sobel( img_grey, cv2.CV_16S, dx=1, dy=0, ksize=3 )\n",
    "img_Sobel_x = cv2.convertScaleAbs( img_Sobel_x )\n",
    "\n",
    "# 求二次導數取得邊緣檢測結果\n",
    "img_Sobel_xx = cv2.Sobel( img_grey, cv2.CV_16S, dx=2, dy=0, ksize=3 )\n",
    "img_Sobel_xx = cv2.convertScaleAbs( img_Sobel_xx )\n",
    "\n",
    "#　組合 + 顯示圖片\n",
    "img_show = np.hstack((img_grey, img_Sobel_x, img_Sobel_xx))\n",
    "while True:\n",
    "    cv2.imshow( 'Edge Detection', img_show )\n",
    "    cv2.imwrite( 'Edge_Detection_dx_vs_dxdx.jpg', img_show )\n",
    "    \n",
    "    k = cv2.waitKey(0)\n",
    "    if k == 27:\n",
    "        cv2.destroyAllWindows()\n",
    "        break"
   ]
  }
 ],
 "metadata": {
  "kernelspec": {
   "display_name": "Python 3",
   "language": "python",
   "name": "python3"
  },
  "language_info": {
   "codemirror_mode": {
    "name": "ipython",
    "version": 3
   },
   "file_extension": ".py",
   "mimetype": "text/x-python",
   "name": "python",
   "nbconvert_exporter": "python",
   "pygments_lexer": "ipython3",
   "version": "3.7.6"
  }
 },
 "nbformat": 4,
 "nbformat_minor": 2
}
