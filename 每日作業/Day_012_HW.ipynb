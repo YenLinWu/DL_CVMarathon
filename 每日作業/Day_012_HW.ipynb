{
 "cells": [
  {
   "cell_type": "markdown",
   "metadata": {
    "colab_type": "text",
    "id": "0BBfdBwkyTiQ"
   },
   "source": [
    "## 『作業內容』\n",
    "####   依照指示，透過調整Padding、Strides參數控制輸出Feature map大小\n"
   ]
  },
  {
   "cell_type": "markdown",
   "metadata": {
    "colab_type": "text",
    "id": "7CtbcEb4yTiT"
   },
   "source": [
    "## 『目標』\n",
    "####   了解輸出feature map尺寸變化原理"
   ]
  },
  {
   "cell_type": "code",
   "execution_count": 1,
   "metadata": {},
   "outputs": [],
   "source": [
    "from tensorflow.keras.models import Sequential, Model\n",
    "from tensorflow.keras.layers import Input, Convolution2D, Dense"
   ]
  },
  {
   "cell_type": "markdown",
   "metadata": {},
   "source": [
    "## (1) Same Padding with 1 Stride \n",
    "\n",
    "Input Size = ( 13, 13, 1 )  \n",
    "Numbers of Kernel = 32   \n",
    "Kernel Size = (6,6)   \n",
    "\n",
    "- Total params = ( 6 * 6 * 1 + 1 ) * 32 = 1,184\n",
    "- padding = 'SAME' and strides = (1,1) :  \n",
    "  &nbsp;&nbsp;&nbsp; **輸出 Feature Map 的寬與高 = 輸入圖片的寬與高**"
   ]
  },
  {
   "cell_type": "code",
   "execution_count": 2,
   "metadata": {},
   "outputs": [
    {
     "name": "stdout",
     "output_type": "stream",
     "text": [
      "Model: \"Same Padding with 1 stride\"\n",
      "_________________________________________________________________\n",
      "Layer (type)                 Output Shape              Param #   \n",
      "=================================================================\n",
      "Input_Layer (InputLayer)     [(None, 13, 13, 1)]       0         \n",
      "_________________________________________________________________\n",
      "Convolution (Conv2D)         (None, 13, 13, 32)        1184      \n",
      "=================================================================\n",
      "Total params: 1,184\n",
      "Trainable params: 1,184\n",
      "Non-trainable params: 0\n",
      "_________________________________________________________________\n"
     ]
    }
   ],
   "source": [
    "inputs = Input( shape=(13,13,1), name='Input_Layer' )\n",
    "x = Convolution2D( 32, kernel_size=(6,6), padding='SAME', strides=(1,1), name='Convolution' )( inputs )\n",
    "model = Model( inputs=inputs, outputs=x, name='Same Padding with 1 stride' )\n",
    "model.summary()"
   ]
  },
  {
   "cell_type": "markdown",
   "metadata": {},
   "source": [
    "## (2) Same Padding with 2 Strides \n",
    "\n",
    "Input Size = ( 13, 13, 2 )  \n",
    "Numbers of Kernel = 32   \n",
    "Kernel Size = (6,6)   \n",
    "\n",
    "- Total params = ( 6 * 6 * 2 + 1 ) * 32 = 2,336\n",
    "- padding = 'SAME' and strides = (2,2) :  \n",
    "&nbsp;&nbsp;&nbsp; 輸出 Feature Map 的寬與高 = ( $ \\lceil \\displaystyle \\frac{13}{2} \\rceil$, $\\lceil \\displaystyle \\frac{13}{2} \\rceil$ ) = ( 7, 7 )"
   ]
  },
  {
   "cell_type": "code",
   "execution_count": 3,
   "metadata": {},
   "outputs": [
    {
     "name": "stdout",
     "output_type": "stream",
     "text": [
      "Model: \"Same Padding with Strides 2\"\n",
      "_________________________________________________________________\n",
      "Layer (type)                 Output Shape              Param #   \n",
      "=================================================================\n",
      "Input_Layer (InputLayer)     [(None, 13, 13, 2)]       0         \n",
      "_________________________________________________________________\n",
      "Convolution (Conv2D)         (None, 7, 7, 32)          2336      \n",
      "=================================================================\n",
      "Total params: 2,336\n",
      "Trainable params: 2,336\n",
      "Non-trainable params: 0\n",
      "_________________________________________________________________\n"
     ]
    }
   ],
   "source": [
    "inputs = Input( shape=(13,13,2), name='Input_Layer' )\n",
    "x = Convolution2D( 32, kernel_size=(6,6), padding='SAME', strides=(2,2), name='Convolution' )( inputs )\n",
    "model = Model( inputs=inputs, outputs=x, name='Same Padding with Strides 2' )\n",
    "model.summary()"
   ]
  },
  {
   "cell_type": "markdown",
   "metadata": {},
   "source": [
    "## (3) Valid Padding with 1 Stride \n",
    "\n",
    "Input Size = ( 13, 13, 3 )  \n",
    "Numbers of Kernel = 32   \n",
    "Kernel Size = (6,6)   \n",
    "\n",
    "- Total params = ( 6 * 6 * 3 + 1 ) * 32 = 3,488\n",
    "- padding = 'Valid' and strides = (1,1) :  \n",
    "&nbsp;&nbsp;&nbsp; 輸出 Feature Map 的寬與高 = ( $\\lceil \\displaystyle \\frac{13-6+1}{1} \\rceil$, $\\lceil \\displaystyle \\frac{13-6+1}{1} \\rceil$ ) = ( 8, 8 )"
   ]
  },
  {
   "cell_type": "code",
   "execution_count": 4,
   "metadata": {},
   "outputs": [
    {
     "name": "stdout",
     "output_type": "stream",
     "text": [
      "Model: \"Valid Padding with 1 Stride\"\n",
      "_________________________________________________________________\n",
      "Layer (type)                 Output Shape              Param #   \n",
      "=================================================================\n",
      "Input_Layer (InputLayer)     [(None, 13, 13, 3)]       0         \n",
      "_________________________________________________________________\n",
      "Convolution (Conv2D)         (None, 8, 8, 32)          3488      \n",
      "=================================================================\n",
      "Total params: 3,488\n",
      "Trainable params: 3,488\n",
      "Non-trainable params: 0\n",
      "_________________________________________________________________\n"
     ]
    }
   ],
   "source": [
    "inputs = Input( shape=(13,13,3), name='Input_Layer' )\n",
    "x = Convolution2D( 32, kernel_size=(6,6), padding='Valid', strides=(1,1), name='Convolution' )( inputs )\n",
    "model = Model( inputs=inputs, outputs=x, name='Valid Padding with 1 Stride' )\n",
    "model.summary()"
   ]
  },
  {
   "cell_type": "markdown",
   "metadata": {},
   "source": [
    "## (4) Valid Padding with 2 Strides \n",
    "\n",
    "Input Size = ( 13, 13, 1 )  \n",
    "Numbers of Kernel = 32   \n",
    "Kernel Size = (6,6)  \n",
    "\n",
    "- Total params = ( 6 * 6 * 1 + 1 ) * 32 = 1,184\n",
    "- padding = 'Valid' and strides = (2,2) :  \n",
    "&nbsp;&nbsp;&nbsp; 輸出 Feature Map 的寬與高 = ( $\\lceil \\displaystyle \\frac{13-6+1}{2} \\rceil$, $\\lceil \\displaystyle \\frac{13-6+1}{2} \\rceil$ ) = ( 4, 4 )"
   ]
  },
  {
   "cell_type": "code",
   "execution_count": 5,
   "metadata": {},
   "outputs": [
    {
     "name": "stdout",
     "output_type": "stream",
     "text": [
      "Model: \"Valid Padding with 2 Strides\"\n",
      "_________________________________________________________________\n",
      "Layer (type)                 Output Shape              Param #   \n",
      "=================================================================\n",
      "Input_Layer (InputLayer)     [(None, 13, 13, 1)]       0         \n",
      "_________________________________________________________________\n",
      "Convolution (Conv2D)         (None, 4, 4, 32)          1184      \n",
      "=================================================================\n",
      "Total params: 1,184\n",
      "Trainable params: 1,184\n",
      "Non-trainable params: 0\n",
      "_________________________________________________________________\n"
     ]
    }
   ],
   "source": [
    "inputs = Input( shape=(13,13,1), name='Input_Layer' )\n",
    "x = Convolution2D( 32, kernel_size=(6,6), padding='Valid', strides=(2,2), name='Convolution' )( inputs )\n",
    "model = Model( inputs=inputs, outputs=x, name='Valid Padding with 2 Strides' )\n",
    "model.summary()"
   ]
  }
 ],
 "metadata": {
  "colab": {
   "name": "Strides and Padding.ipynb",
   "provenance": []
  },
  "kernelspec": {
   "display_name": "Python 3",
   "language": "python",
   "name": "python3"
  },
  "language_info": {
   "codemirror_mode": {
    "name": "ipython",
    "version": 3
   },
   "file_extension": ".py",
   "mimetype": "text/x-python",
   "name": "python",
   "nbconvert_exporter": "python",
   "pygments_lexer": "ipython3",
   "version": "3.7.6"
  }
 },
 "nbformat": 4,
 "nbformat_minor": 1
}
