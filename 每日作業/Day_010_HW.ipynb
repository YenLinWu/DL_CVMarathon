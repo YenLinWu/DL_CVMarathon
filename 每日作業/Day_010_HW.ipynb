{
 "cells": [
  {
   "cell_type": "markdown",
   "metadata": {},
   "source": [
    "# 範例\n",
    "\n",
    "透過 SIFT 特徵實作 Brute-Force Matching"
   ]
  },
  {
   "cell_type": "code",
   "execution_count": 1,
   "metadata": {},
   "outputs": [],
   "source": [
    "import cv2\n",
    "import numpy as np"
   ]
  },
  {
   "cell_type": "code",
   "execution_count": 2,
   "metadata": {},
   "outputs": [],
   "source": [
    "img_query_path = 'D:/Tom/GitHub/DL_CVMarathon/img/Day_010/box.png'\n",
    "img_train_path = 'D:/Tom/GitHub/DL_CVMarathon/img/Day_010/box_in_scene.png'\n",
    "\n",
    "# 以灰階方式讀入圖片\n",
    "img_query = cv2.imread( img_query_path, 0 )\n",
    "img_train = cv2.imread( img_train_path, 0 )"
   ]
  },
  {
   "cell_type": "code",
   "execution_count": 3,
   "metadata": {},
   "outputs": [],
   "source": [
    "# 建立 SIFT 物件\n",
    "SIFT_Detector = cv2.xfeatures2d_SIFT.create( )\n",
    "\n",
    "# 偵測並計算 SIFT 特徵 ( Keypoints 關鍵點、Descriptor 128 為敘述子 )\n",
    "kp_query, des_query = SIFT_Detector.detectAndCompute( img_query, None )\n",
    "kp_train, des_train = SIFT_Detector.detectAndCompute( img_train, None )"
   ]
  },
  {
   "cell_type": "markdown",
   "metadata": {},
   "source": [
    "## 基於 SIFT 特徵的暴力比對\n",
    "\n",
    "- KNN 比對\n",
    "- David Lowe's Ratio Test"
   ]
  },
  {
   "cell_type": "code",
   "execution_count": 4,
   "metadata": {},
   "outputs": [],
   "source": [
    "# 建立 Brute-Force Matching 物件\n",
    "BF = cv2.BFMatcher( cv2.NORM_L2 )\n",
    "\n",
    "# 以 KNN 方式暴力比對特徵\n",
    "matches = BF.knnMatch( des_query, des_train, k=2 )"
   ]
  },
  {
   "cell_type": "code",
   "execution_count": 5,
   "metadata": {},
   "outputs": [],
   "source": [
    "# 透過 David Lowe's Ratio Test 排除不適合的配對\n",
    "candidate = []\n",
    "for m, n in matches:\n",
    "    if m.distance < 0.75*n.distance:\n",
    "        candidate.append( [m] )"
   ]
  },
  {
   "cell_type": "code",
   "execution_count": 6,
   "metadata": {},
   "outputs": [],
   "source": [
    "# 顯示配對結果\n",
    "# 參數 flags=2 代表沒有配對成功的關鍵點不會被畫出來\n",
    "img_show = cv2.drawMatchesKnn( img_query, kp_query, img_train, kp_train, candidate, None, flags=2 )\n",
    "\n",
    "# 顯示圖片\n",
    "while True:\n",
    "    cv2.imshow( 'Brute-Force Matching', img_show )\n",
    "    cv2.imwrite( 'Brute_Force_Matching.jpg', img_show )\n",
    "    k = cv2.waitKey(0)\n",
    "    if k == 27:\n",
    "        cv2.destroyAllWindows()\n",
    "        break"
   ]
  }
 ],
 "metadata": {
  "kernelspec": {
   "display_name": "Python 3",
   "language": "python",
   "name": "python3"
  },
  "language_info": {
   "codemirror_mode": {
    "name": "ipython",
    "version": 3
   },
   "file_extension": ".py",
   "mimetype": "text/x-python",
   "name": "python",
   "nbconvert_exporter": "python",
   "pygments_lexer": "ipython3",
   "version": "3.7.6"
  }
 },
 "nbformat": 4,
 "nbformat_minor": 2
}
