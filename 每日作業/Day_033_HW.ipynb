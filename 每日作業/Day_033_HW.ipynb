{
 "cells": [
  {
   "cell_type": "markdown",
   "metadata": {
    "colab_type": "text",
    "id": "Bu7RSyCqYdBS"
   },
   "source": [
    "## YOLO 細節理解 - 網路輸出的後處理    \n",
    "今天的課程，我們說明了NMS在yolo中運作的情形:\n",
    "* NMS在YOLO的實際運作以每一個類別為主，各別執行NMS。     \n",
    "* YOLO 在NMS中採用的信心度為「每個 bbox 包含各類別的信心度」      \n"
   ]
  },
  {
   "cell_type": "markdown",
   "metadata": {
    "colab_type": "text",
    "id": "Z9YHBcEGYdBV"
   },
   "source": [
    "### 作業\n",
    "在NMS流程中，IoU重疊率參數(nms_threshold )調高，試著思考一下輸出的預測框會有甚麼變化?\n",
    "Hint: 可以回頭看今天介紹的內容，思考輸出的預測框變多或變少?\n",
    "\n",
    "- ANS: 若 IoU 值設定過高，可能導致重複偵測；若 IoU 值設定太低，顯示的偵測框會變少。"
   ]
  }
 ],
 "metadata": {
  "colab": {
   "name": "Day33.YOLO 細節理解 - 網路輸出的後處理_HW.ipynb",
   "provenance": []
  },
  "kernelspec": {
   "display_name": "Python 3",
   "language": "python",
   "name": "python3"
  },
  "language_info": {
   "codemirror_mode": {
    "name": "ipython",
    "version": 3
   },
   "file_extension": ".py",
   "mimetype": "text/x-python",
   "name": "python",
   "nbconvert_exporter": "python",
   "pygments_lexer": "ipython3",
   "version": "3.7.6"
  }
 },
 "nbformat": 4,
 "nbformat_minor": 1
}
